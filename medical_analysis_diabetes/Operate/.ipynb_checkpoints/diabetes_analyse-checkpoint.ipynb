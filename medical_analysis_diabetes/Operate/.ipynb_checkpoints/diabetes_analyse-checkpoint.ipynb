{
 "cells": [
  {
   "cell_type": "markdown",
   "metadata": {},
   "source": [
    "## 数据集预览\n",
    "- 'f_train_20180204.csv'\n",
    "- 'f_test_b_20180305.csv'\n",
    "- 'f_test_a_20180204.csv'\n",
    "- 'f_answer_a_20180306.csv'"
   ]
  },
  {
   "cell_type": "markdown",
   "metadata": {},
   "source": [
    "- 输入：83个特征\n",
    "- 输出： 对每个人是否患妊娠糖尿病的预测结果，以整数形式表示类别，取值为0或者1"
   ]
  },
  {
   "cell_type": "code",
   "execution_count": 1,
   "metadata": {},
   "outputs": [],
   "source": [
    "import pandas as pd\n",
    "import numpy as np\n",
    "from sklearn.tree import DecisionTreeClassifier\n",
    "from collections import Counter\n",
    "\n",
    "import matplotlib.pyplot as plt\n",
    "%matplotlib inline"
   ]
  },
  {
   "cell_type": "code",
   "execution_count": 2,
   "metadata": {},
   "outputs": [
    {
     "data": {
      "text/plain": [
       "(1000, 85)"
      ]
     },
     "execution_count": 2,
     "metadata": {},
     "output_type": "execute_result"
    }
   ],
   "source": [
    "A_df_Org = pd.read_csv('../Data/f_train_20180204.csv')                  # 85列，首列id，末列标签，83个特征\n",
    "A_df_Org.shape"
   ]
  },
  {
   "cell_type": "code",
   "execution_count": 3,
   "metadata": {},
   "outputs": [
    {
     "data": {
      "text/plain": [
       "(   SNP1  SNP2  SNP3  SNP4  SNP5  SNP6  SNP7  SNP8  SNP9  SNP10  ...    SNP47  \\\n",
       " 0     2     1   NaN   2.0   3.0   1.0   3.0   3.0   2.0    2.0  ...      2.0   \n",
       " 1     3     2   3.0   2.0   2.0   2.0   3.0   3.0   2.0    2.0  ...      2.0   \n",
       " 2     1     1   3.0   1.0   3.0   2.0   3.0   3.0   2.0    2.0  ...      2.0   \n",
       " \n",
       "    SNP48  SNP49  SNP50  SNP51  SNP52  SNP53  SNP54  SNP55  ACEID  \n",
       " 0    2.0    2.0    1.0    2.0    1.0    1.0    3.0    3.0    1.0  \n",
       " 1    1.0    3.0    1.0    1.0    2.0    1.0    2.0    2.0    3.0  \n",
       " 2    3.0    3.0    2.0    2.0    1.0    1.0    1.0    1.0    2.0  \n",
       " \n",
       " [3 rows x 83 columns],    label\n",
       " 0      1\n",
       " 1      0\n",
       " 2      1)"
      ]
     },
     "execution_count": 3,
     "metadata": {},
     "output_type": "execute_result"
    }
   ],
   "source": [
    "X_df_All = A_df_Org.iloc[:, 1:84]\n",
    "Y_df_All = A_df_Org.iloc[:, 84:]\n",
    "X_df_All.head(3), Y_df_All.head(3)"
   ]
  },
  {
   "cell_type": "markdown",
   "metadata": {},
   "source": [
    "## 数据集分析"
   ]
  },
  {
   "cell_type": "markdown",
   "metadata": {},
   "source": [
    "### 空值统计"
   ]
  },
  {
   "cell_type": "code",
   "execution_count": 4,
   "metadata": {},
   "outputs": [
    {
     "data": {
      "text/plain": [
       "1000"
      ]
     },
     "execution_count": 4,
     "metadata": {},
     "output_type": "execute_result"
    }
   ],
   "source": [
    "int_LowsLen = X_df_All.shape[0]\n",
    "int_LowsLen"
   ]
  },
  {
   "cell_type": "code",
   "execution_count": 5,
   "metadata": {},
   "outputs": [
    {
     "data": {
      "text/plain": [
       "[('RBP4', 911), ('分娩时', 815), ('SNP22', 540), ('SNP21', 539), ('SNP23', 538)]"
      ]
     },
     "execution_count": 5,
     "metadata": {},
     "output_type": "execute_result"
    }
   ],
   "source": [
    "X_d_NullCount = dict(X_df_All.isnull().sum())\n",
    "Y_d_NullCount = dict(Y_df_All.isnull().sum())\n",
    "\n",
    "X_d_NullCount = sorted(X_d_NullCount.items(), key=lambda d:d[1]) \n",
    "Y_d_NullCount = sorted(Y_d_NullCount.items(), key=lambda d:d[1]) \n",
    "\n",
    "X_d_NullCount[-1:-6:-1]"
   ]
  },
  {
   "cell_type": "code",
   "execution_count": 6,
   "metadata": {},
   "outputs": [
    {
     "data": {
      "text/html": [
       "<div>\n",
       "<style scoped>\n",
       "    .dataframe tbody tr th:only-of-type {\n",
       "        vertical-align: middle;\n",
       "    }\n",
       "\n",
       "    .dataframe tbody tr th {\n",
       "        vertical-align: top;\n",
       "    }\n",
       "\n",
       "    .dataframe thead th {\n",
       "        text-align: right;\n",
       "    }\n",
       "</style>\n",
       "<table border=\"1\" class=\"dataframe\">\n",
       "  <thead>\n",
       "    <tr style=\"text-align: right;\">\n",
       "      <th></th>\n",
       "      <th>SNP1</th>\n",
       "      <th>SNP2</th>\n",
       "      <th>SNP7</th>\n",
       "      <th>SNP8</th>\n",
       "      <th>SNP9</th>\n",
       "      <th>SNP10</th>\n",
       "      <th>SNP25</th>\n",
       "      <th>VAR00007</th>\n",
       "      <th>SNP4</th>\n",
       "      <th>SNP6</th>\n",
       "      <th>...</th>\n",
       "      <th>AST</th>\n",
       "      <th>DM家族史</th>\n",
       "      <th>SNP54</th>\n",
       "      <th>SNP55</th>\n",
       "      <th>ACEID</th>\n",
       "      <th>SNP23</th>\n",
       "      <th>SNP21</th>\n",
       "      <th>SNP22</th>\n",
       "      <th>分娩时</th>\n",
       "      <th>RBP4</th>\n",
       "    </tr>\n",
       "  </thead>\n",
       "  <tbody>\n",
       "    <tr>\n",
       "      <th>0</th>\n",
       "      <td>0</td>\n",
       "      <td>0</td>\n",
       "      <td>3</td>\n",
       "      <td>5</td>\n",
       "      <td>5</td>\n",
       "      <td>5</td>\n",
       "      <td>8</td>\n",
       "      <td>10</td>\n",
       "      <td>11</td>\n",
       "      <td>13</td>\n",
       "      <td>...</td>\n",
       "      <td>254</td>\n",
       "      <td>300</td>\n",
       "      <td>517</td>\n",
       "      <td>517</td>\n",
       "      <td>517</td>\n",
       "      <td>538</td>\n",
       "      <td>539</td>\n",
       "      <td>540</td>\n",
       "      <td>815</td>\n",
       "      <td>911</td>\n",
       "    </tr>\n",
       "  </tbody>\n",
       "</table>\n",
       "<p>1 rows × 83 columns</p>\n",
       "</div>"
      ],
      "text/plain": [
       "   SNP1  SNP2  SNP7  SNP8  SNP9  SNP10  SNP25  VAR00007  SNP4  SNP6  ...   \\\n",
       "0     0     0     3     5     5      5      8        10    11    13  ...    \n",
       "\n",
       "   AST  DM家族史  SNP54  SNP55  ACEID  SNP23  SNP21  SNP22  分娩时  RBP4  \n",
       "0  254    300    517    517    517    538    539    540  815   911  \n",
       "\n",
       "[1 rows x 83 columns]"
      ]
     },
     "execution_count": 6,
     "metadata": {},
     "output_type": "execute_result"
    }
   ],
   "source": [
    "# 转换为DataFrame\n",
    "X_df_NullCount = pd.DataFrame(dict(X_d_NullCount), dtype=np.int16,index=[0])\n",
    "Y_df_NullCount = pd.DataFrame(dict(Y_d_NullCount), dtype=np.int16,index=[0])\n",
    "\n",
    "# 导出为csv\n",
    "X_df_NullCount.to_csv('../Model/X_NullCount.csv',sep=',')\n",
    "Y_df_NullCount.to_csv('../Model/Y_NullCount.csv',sep=',')\n",
    "\n",
    "X_df_NullCount"
   ]
  },
  {
   "cell_type": "code",
   "execution_count": 31,
   "metadata": {},
   "outputs": [
    {
     "data": {
      "text/plain": [
       "27"
      ]
     },
     "execution_count": 31,
     "metadata": {},
     "output_type": "execute_result"
    }
   ],
   "source": [
    "(X_df_All['RBP4'].notnull() & X_df_All['分娩时'].notnull() & X_df_All['SNP22'].notnull()& X_df_All['SNP21'].notnull()).sum()"
   ]
  },
  {
   "cell_type": "markdown",
   "metadata": {},
   "source": [
    "## 数据可视化"
   ]
  },
  {
   "cell_type": "code",
   "execution_count": 9,
   "metadata": {},
   "outputs": [],
   "source": [
    "list_colNames = X_df_All.columns"
   ]
  },
  {
   "cell_type": "code",
   "execution_count": 21,
   "metadata": {},
   "outputs": [
    {
     "name": "stdout",
     "output_type": "stream",
     "text": [
      "[('SNP1', 3), ('SNP2', 3), ('SNP9', 3), ('SNP10', 3), ('SNP3', 4), ('SNP4', 4), ('SNP5', 4), ('SNP6', 4), ('SNP7', 4), ('SNP8', 4), ('SNP11', 4), ('SNP12', 4), ('SNP13', 4), ('SNP14', 4), ('SNP15', 4), ('SNP16', 4), ('SNP17', 4), ('SNP18', 4), ('SNP19', 4), ('SNP20', 4), ('SNP21', 4), ('SNP22', 4), ('SNP23', 4), ('产次', 4), ('BMI分类', 4), ('SNP24', 4), ('SNP25', 4), ('SNP26', 4), ('SNP27', 4), ('SNP28', 4), ('SNP29', 4), ('SNP30', 4), ('SNP31', 4), ('SNP32', 4), ('SNP33', 4), ('SNP34', 4), ('SNP35', 4), ('SNP36', 4), ('SNP37', 4), ('SNP38', 4), ('DM家族史', 4), ('SNP39', 4), ('SNP40', 4), ('SNP41', 4), ('SNP42', 4), ('SNP43', 4), ('SNP44', 4), ('SNP45', 4), ('SNP46', 4), ('SNP47', 4), ('SNP48', 4), ('SNP49', 4), ('SNP50', 4), ('SNP51', 4), ('SNP52', 4), ('SNP53', 4), ('SNP54', 4), ('SNP55', 4), ('ACEID', 4), ('孕次', 8), ('年龄', 26), ('身高', 34), ('AST', 45), ('VAR00007', 46), ('舒张压', 50), ('分娩时', 69), ('收缩压', 70), ('Cr', 72), ('孕前体重', 75), ('RBP4', 88), ('糖筛孕周', 96), ('ALT', 99), ('ApoB', 148), ('ApoA1', 176), ('HDLC', 200), ('BUN', 282), ('LDLC', 329), ('TG', 331), ('CHO', 370), ('孕前BMI', 411), ('Lpa', 428), ('hsCRP', 501), ('wbc', 514)]\n",
      "Wall time: 10 ms\n"
     ]
    }
   ],
   "source": [
    "%%time\n",
    "d_ClaCount = {}\n",
    "for n in list_colNames:  \n",
    "   d_ClaCount[n] = len(X_df_All[n].unique())\n",
    "d_ClaCountSort = sorted(d_ClaCount.items(), key=lambda i:i[1])\n",
    "\n",
    "print(d_ClaCountSort)"
   ]
  },
  {
   "cell_type": "code",
   "execution_count": 24,
   "metadata": {},
   "outputs": [
    {
     "data": {
      "text/plain": [
       "<matplotlib.axes._subplots.AxesSubplot at 0x1a0c4c18>"
      ]
     },
     "execution_count": 24,
     "metadata": {},
     "output_type": "execute_result"
    },
    {
     "data": {
      "image/png": "[encoded data removed]",
      "text/plain": [
       "<Figure size 432x288 with 1 Axes>"
      ]
     },
     "metadata": {
      "needs_background": "light"
     },
     "output_type": "display_data"
    }
   ],
   "source": [
    "pd.DataFrame(d_ClaCountSort,index=None).plot(kind='bar', stacked=True)"
   ]
  },
  {
   "cell_type": "code",
   "execution_count": null,
   "metadata": {},
   "outputs": [],
   "source": []
  }
 ],
 "metadata": {
  "kernelspec": {
   "display_name": "Python 3",
   "language": "python",
   "name": "python3"
  },
  "language_info": {
   "codemirror_mode": {
    "name": "ipython",
    "version": 3
   },
   "file_extension": ".py",
   "mimetype": "text/x-python",
   "name": "python",
   "nbconvert_exporter": "python",
   "pygments_lexer": "ipython3",
   "version": "3.6.6"
  },
  "toc": {
   "base_numbering": 1,
   "nav_menu": {},
   "number_sections": true,
   "sideBar": true,
   "skip_h1_title": false,
   "title_cell": "Table of Contents",
   "title_sidebar": "Contents",
   "toc_cell": false,
   "toc_position": {},
   "toc_section_display": true,
   "toc_window_display": true
  }
 },
 "nbformat": 4,
 "nbformat_minor": 2
}
