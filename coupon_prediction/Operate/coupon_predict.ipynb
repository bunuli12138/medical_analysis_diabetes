{
 "cells": [
  {
   "cell_type": "markdown",
   "metadata": {},
   "source": [
    "## 简介\n",
    "__预测用户在2016年7月领取优惠券后15天以内的使用情况__\n",
    "- 输入：      \n",
    "\n",
    "| Table1 | Table2 | Table3 | \n",
    "| --- | --- | --- | \n",
    "| 用户线下消费和优惠券领取行为： |  用户线上点击/消费和优惠券领取行为 | 用户O2O线下优惠券使用预测样本 |\n",
    "\n",
    "- 输出： Table 4和sample_submission.csv\n",
    "***\n",
    "'Discount' 与 'Date_receive'不存在不同时为空情况，即两者为空时代表没有优惠券，可以将label设为0\n"
   ]
  },
  {
   "cell_type": "markdown",
   "metadata": {},
   "source": [
    "- 当存在train_df_new.csv文件时，只运行__1简介,2导入,4去除空值__部分即可\n",
    "- 整理后的新数据集有6个特征（包括标签）\n",
    "- 后续操作主要利用新数据__train_df_new__继续进行"
   ]
  },
  {
   "cell_type": "code",
   "execution_count": 1,
   "metadata": {},
   "outputs": [],
   "source": [
    "import pandas as pd\n",
    "import numpy as np\n",
    "import matplotlib.pyplot as plt\n",
    "from collections import Counter\n",
    "from sklearn.tree import DecisionTreeClassifier                                  # 决策树\n",
    "from sklearn.model_selection import train_test_split                             # 数据集划分\n",
    "from datetime import datetime, timedelta                                         # 日期处理\n",
    "from chinese_calendar import is_holiday, get_holidays                            # 中国节假日\n",
    "import os                                                                        # 检查文件（模型文件）是否存在，防止覆盖\n",
    "import pickle                                                                    # 导入导出模型\n",
    "\n",
    "%matplotlib inline"
   ]
  },
  {
   "cell_type": "markdown",
   "metadata": {},
   "source": [
    "## 导入训练数据、测试数据"
   ]
  },
  {
   "cell_type": "code",
   "execution_count": 2,
   "metadata": {},
   "outputs": [
    {
     "name": "stdout",
     "output_type": "stream",
     "text": [
      "Wall time: 4.42 s\n"
     ]
    }
   ],
   "source": [
    "%%time\n",
    "train_org = pd.read_csv(\"../Data/ccf_offline_stage1_train.csv\")                    # ndarray\n",
    "train_df_org = pd.DataFrame(train_org)                                             # dataframe\n",
    "train_df_org.head()"
   ]
  },
  {
   "cell_type": "code",
   "execution_count": 3,
   "metadata": {},
   "outputs": [
    {
     "data": {
      "text/html": [
       "<div>\n",
       "<style scoped>\n",
       "    .dataframe tbody tr th:only-of-type {\n",
       "        vertical-align: middle;\n",
       "    }\n",
       "\n",
       "    .dataframe tbody tr th {\n",
       "        vertical-align: top;\n",
       "    }\n",
       "\n",
       "    .dataframe thead th {\n",
       "        text-align: right;\n",
       "    }\n",
       "</style>\n",
       "<table border=\"1\" class=\"dataframe\">\n",
       "  <thead>\n",
       "    <tr style=\"text-align: right;\">\n",
       "      <th></th>\n",
       "      <th>Discount_rate</th>\n",
       "      <th>Distance</th>\n",
       "      <th>Date_received</th>\n",
       "      <th>Date</th>\n",
       "    </tr>\n",
       "  </thead>\n",
       "  <tbody>\n",
       "    <tr>\n",
       "      <th>0</th>\n",
       "      <td>NaN</td>\n",
       "      <td>0.0</td>\n",
       "      <td>NaN</td>\n",
       "      <td>20160217.0</td>\n",
       "    </tr>\n",
       "    <tr>\n",
       "      <th>1</th>\n",
       "      <td>150:20</td>\n",
       "      <td>1.0</td>\n",
       "      <td>20160528.0</td>\n",
       "      <td>NaN</td>\n",
       "    </tr>\n",
       "    <tr>\n",
       "      <th>2</th>\n",
       "      <td>20:1</td>\n",
       "      <td>0.0</td>\n",
       "      <td>20160217.0</td>\n",
       "      <td>NaN</td>\n",
       "    </tr>\n",
       "    <tr>\n",
       "      <th>3</th>\n",
       "      <td>20:1</td>\n",
       "      <td>0.0</td>\n",
       "      <td>20160319.0</td>\n",
       "      <td>NaN</td>\n",
       "    </tr>\n",
       "    <tr>\n",
       "      <th>4</th>\n",
       "      <td>20:1</td>\n",
       "      <td>0.0</td>\n",
       "      <td>20160613.0</td>\n",
       "      <td>NaN</td>\n",
       "    </tr>\n",
       "  </tbody>\n",
       "</table>\n",
       "</div>"
      ],
      "text/plain": [
       "  Discount_rate  Distance  Date_received        Date\n",
       "0           NaN       0.0            NaN  20160217.0\n",
       "1        150:20       1.0     20160528.0         NaN\n",
       "2          20:1       0.0     20160217.0         NaN\n",
       "3          20:1       0.0     20160319.0         NaN\n",
       "4          20:1       0.0     20160613.0         NaN"
      ]
     },
     "execution_count": 3,
     "metadata": {},
     "output_type": "execute_result"
    }
   ],
   "source": [
    "train_df = train_df_org.iloc[:,3:]\n",
    "train_df.head()"
   ]
  },
  {
   "cell_type": "code",
   "execution_count": 4,
   "metadata": {},
   "outputs": [
    {
     "data": {
      "text/html": [
       "<div>\n",
       "<style scoped>\n",
       "    .dataframe tbody tr th:only-of-type {\n",
       "        vertical-align: middle;\n",
       "    }\n",
       "\n",
       "    .dataframe tbody tr th {\n",
       "        vertical-align: top;\n",
       "    }\n",
       "\n",
       "    .dataframe thead th {\n",
       "        text-align: right;\n",
       "    }\n",
       "</style>\n",
       "<table border=\"1\" class=\"dataframe\">\n",
       "  <thead>\n",
       "    <tr style=\"text-align: right;\">\n",
       "      <th></th>\n",
       "      <th>User_id</th>\n",
       "      <th>Merchant_id</th>\n",
       "      <th>Coupon_id</th>\n",
       "      <th>Discount_rate</th>\n",
       "      <th>Distance</th>\n",
       "      <th>Date_received</th>\n",
       "    </tr>\n",
       "  </thead>\n",
       "  <tbody>\n",
       "    <tr>\n",
       "      <th>0</th>\n",
       "      <td>4129537</td>\n",
       "      <td>450</td>\n",
       "      <td>9983</td>\n",
       "      <td>30:5</td>\n",
       "      <td>1.0</td>\n",
       "      <td>20160712</td>\n",
       "    </tr>\n",
       "    <tr>\n",
       "      <th>1</th>\n",
       "      <td>6949378</td>\n",
       "      <td>1300</td>\n",
       "      <td>3429</td>\n",
       "      <td>30:5</td>\n",
       "      <td>NaN</td>\n",
       "      <td>20160706</td>\n",
       "    </tr>\n",
       "    <tr>\n",
       "      <th>2</th>\n",
       "      <td>2166529</td>\n",
       "      <td>7113</td>\n",
       "      <td>6928</td>\n",
       "      <td>200:20</td>\n",
       "      <td>5.0</td>\n",
       "      <td>20160727</td>\n",
       "    </tr>\n",
       "    <tr>\n",
       "      <th>3</th>\n",
       "      <td>2166529</td>\n",
       "      <td>7113</td>\n",
       "      <td>1808</td>\n",
       "      <td>100:10</td>\n",
       "      <td>5.0</td>\n",
       "      <td>20160727</td>\n",
       "    </tr>\n",
       "    <tr>\n",
       "      <th>4</th>\n",
       "      <td>6172162</td>\n",
       "      <td>7605</td>\n",
       "      <td>6500</td>\n",
       "      <td>30:1</td>\n",
       "      <td>2.0</td>\n",
       "      <td>20160708</td>\n",
       "    </tr>\n",
       "  </tbody>\n",
       "</table>\n",
       "</div>"
      ],
      "text/plain": [
       "   User_id  Merchant_id  Coupon_id Discount_rate  Distance  Date_received\n",
       "0  4129537          450       9983          30:5       1.0       20160712\n",
       "1  6949378         1300       3429          30:5       NaN       20160706\n",
       "2  2166529         7113       6928        200:20       5.0       20160727\n",
       "3  2166529         7113       1808        100:10       5.0       20160727\n",
       "4  6172162         7605       6500          30:1       2.0       20160708"
      ]
     },
     "execution_count": 4,
     "metadata": {},
     "output_type": "execute_result"
    }
   ],
   "source": [
    "test_org = pd.read_csv(\"../Data/ccf_offline_stage1_test_revised.csv\")         # ndarray\n",
    "test_df_org = pd.DataFrame(test_org)                                             # dataframe\n",
    "test_df_org.head()"
   ]
  },
  {
   "cell_type": "code",
   "execution_count": 5,
   "metadata": {},
   "outputs": [
    {
     "data": {
      "text/html": [
       "<div>\n",
       "<style scoped>\n",
       "    .dataframe tbody tr th:only-of-type {\n",
       "        vertical-align: middle;\n",
       "    }\n",
       "\n",
       "    .dataframe tbody tr th {\n",
       "        vertical-align: top;\n",
       "    }\n",
       "\n",
       "    .dataframe thead th {\n",
       "        text-align: right;\n",
       "    }\n",
       "</style>\n",
       "<table border=\"1\" class=\"dataframe\">\n",
       "  <thead>\n",
       "    <tr style=\"text-align: right;\">\n",
       "      <th></th>\n",
       "      <th>Discount_rate</th>\n",
       "      <th>Distance</th>\n",
       "      <th>Date_received</th>\n",
       "    </tr>\n",
       "  </thead>\n",
       "  <tbody>\n",
       "    <tr>\n",
       "      <th>0</th>\n",
       "      <td>30:5</td>\n",
       "      <td>1.0</td>\n",
       "      <td>20160712</td>\n",
       "    </tr>\n",
       "    <tr>\n",
       "      <th>1</th>\n",
       "      <td>30:5</td>\n",
       "      <td>NaN</td>\n",
       "      <td>20160706</td>\n",
       "    </tr>\n",
       "    <tr>\n",
       "      <th>2</th>\n",
       "      <td>200:20</td>\n",
       "      <td>5.0</td>\n",
       "      <td>20160727</td>\n",
       "    </tr>\n",
       "    <tr>\n",
       "      <th>3</th>\n",
       "      <td>100:10</td>\n",
       "      <td>5.0</td>\n",
       "      <td>20160727</td>\n",
       "    </tr>\n",
       "    <tr>\n",
       "      <th>4</th>\n",
       "      <td>30:1</td>\n",
       "      <td>2.0</td>\n",
       "      <td>20160708</td>\n",
       "    </tr>\n",
       "  </tbody>\n",
       "</table>\n",
       "</div>"
      ],
      "text/plain": [
       "  Discount_rate  Distance  Date_received\n",
       "0          30:5       1.0       20160712\n",
       "1          30:5       NaN       20160706\n",
       "2        200:20       5.0       20160727\n",
       "3        100:10       5.0       20160727\n",
       "4          30:1       2.0       20160708"
      ]
     },
     "execution_count": 5,
     "metadata": {},
     "output_type": "execute_result"
    }
   ],
   "source": [
    "test_df = test_df_org.iloc[:,3:]\n",
    "test_df.head()"
   ]
  },
  {
   "cell_type": "markdown",
   "metadata": {},
   "source": [
    "### 数据类型"
   ]
  },
  {
   "cell_type": "code",
   "execution_count": 6,
   "metadata": {},
   "outputs": [
    {
     "data": {
      "text/plain": [
       "array([nan, '150:20', '20:1', '200:20', '30:5', '50:10', '10:5', '100:10',\n",
       "       '200:30', '20:5', '30:10', '50:5', '150:10', '100:30', '200:50',\n",
       "       '100:50', '300:30', '50:20', '0.9', '10:1', '30:1', '0.95',\n",
       "       '100:5', '5:1', '100:20', '0.8', '50:1', '200:10', '300:20',\n",
       "       '100:1', '150:30', '300:50', '20:10', '0.85', '0.6', '150:50',\n",
       "       '0.75', '0.5', '200:5', '0.7', '30:20', '300:10', '0.2', '50:30',\n",
       "       '200:100', '150:5'], dtype=object)"
      ]
     },
     "execution_count": 6,
     "metadata": {},
     "output_type": "execute_result"
    }
   ],
   "source": [
    "train_df['Discount_rate'].unique()"
   ]
  },
  {
   "cell_type": "code",
   "execution_count": 7,
   "metadata": {},
   "outputs": [
    {
     "data": {
      "text/plain": [
       "array([ 0.,  1., nan,  2., 10.,  4.,  7.,  9.,  3.,  5.,  6.,  8.])"
      ]
     },
     "execution_count": 7,
     "metadata": {},
     "output_type": "execute_result"
    }
   ],
   "source": [
    "train_df['Distance'].unique()"
   ]
  },
  {
   "cell_type": "code",
   "execution_count": 8,
   "metadata": {},
   "outputs": [
    {
     "data": {
      "text/plain": [
       "1754884"
      ]
     },
     "execution_count": 8,
     "metadata": {},
     "output_type": "execute_result"
    }
   ],
   "source": [
    "low_len = train_df.shape[0]\n",
    "low_len"
   ]
  },
  {
   "cell_type": "code",
   "execution_count": 17,
   "metadata": {},
   "outputs": [
    {
     "data": {
      "text/plain": [
       "Discount_rate    701602\n",
       "Distance         106003\n",
       "Date_received    701602\n",
       "Date             977900\n",
       "dtype: int64"
      ]
     },
     "execution_count": 17,
     "metadata": {},
     "output_type": "execute_result"
    }
   ],
   "source": [
    "train_df.isnull().sum()"
   ]
  },
  {
   "cell_type": "code",
   "execution_count": 20,
   "metadata": {},
   "outputs": [
    {
     "data": {
      "text/html": [
       "<div>\n",
       "<style scoped>\n",
       "    .dataframe tbody tr th:only-of-type {\n",
       "        vertical-align: middle;\n",
       "    }\n",
       "\n",
       "    .dataframe tbody tr th {\n",
       "        vertical-align: top;\n",
       "    }\n",
       "\n",
       "    .dataframe thead th {\n",
       "        text-align: right;\n",
       "    }\n",
       "</style>\n",
       "<table border=\"1\" class=\"dataframe\">\n",
       "  <thead>\n",
       "    <tr style=\"text-align: right;\">\n",
       "      <th></th>\n",
       "      <th>Discount_rate</th>\n",
       "      <th>Distance</th>\n",
       "      <th>Date_received</th>\n",
       "      <th>Date</th>\n",
       "    </tr>\n",
       "  </thead>\n",
       "  <tbody>\n",
       "    <tr>\n",
       "      <th>0</th>\n",
       "      <td>NaN</td>\n",
       "      <td>0.0</td>\n",
       "      <td>NaN</td>\n",
       "      <td>20160217.0</td>\n",
       "    </tr>\n",
       "    <tr>\n",
       "      <th>5</th>\n",
       "      <td>NaN</td>\n",
       "      <td>0.0</td>\n",
       "      <td>NaN</td>\n",
       "      <td>20160516.0</td>\n",
       "    </tr>\n",
       "    <tr>\n",
       "      <th>11</th>\n",
       "      <td>NaN</td>\n",
       "      <td>0.0</td>\n",
       "      <td>NaN</td>\n",
       "      <td>20160626.0</td>\n",
       "    </tr>\n",
       "    <tr>\n",
       "      <th>12</th>\n",
       "      <td>NaN</td>\n",
       "      <td>0.0</td>\n",
       "      <td>NaN</td>\n",
       "      <td>20160519.0</td>\n",
       "    </tr>\n",
       "    <tr>\n",
       "      <th>14</th>\n",
       "      <td>NaN</td>\n",
       "      <td>1.0</td>\n",
       "      <td>NaN</td>\n",
       "      <td>20160606.0</td>\n",
       "    </tr>\n",
       "    <tr>\n",
       "      <th>21</th>\n",
       "      <td>NaN</td>\n",
       "      <td>0.0</td>\n",
       "      <td>NaN</td>\n",
       "      <td>20160327.0</td>\n",
       "    </tr>\n",
       "    <tr>\n",
       "      <th>26</th>\n",
       "      <td>NaN</td>\n",
       "      <td>10.0</td>\n",
       "      <td>NaN</td>\n",
       "      <td>20160115.0</td>\n",
       "    </tr>\n",
       "    <tr>\n",
       "      <th>28</th>\n",
       "      <td>NaN</td>\n",
       "      <td>0.0</td>\n",
       "      <td>NaN</td>\n",
       "      <td>20160519.0</td>\n",
       "    </tr>\n",
       "    <tr>\n",
       "      <th>29</th>\n",
       "      <td>NaN</td>\n",
       "      <td>0.0</td>\n",
       "      <td>NaN</td>\n",
       "      <td>20160516.0</td>\n",
       "    </tr>\n",
       "    <tr>\n",
       "      <th>30</th>\n",
       "      <td>NaN</td>\n",
       "      <td>2.0</td>\n",
       "      <td>NaN</td>\n",
       "      <td>20160114.0</td>\n",
       "    </tr>\n",
       "    <tr>\n",
       "      <th>34</th>\n",
       "      <td>NaN</td>\n",
       "      <td>0.0</td>\n",
       "      <td>NaN</td>\n",
       "      <td>20160606.0</td>\n",
       "    </tr>\n",
       "    <tr>\n",
       "      <th>40</th>\n",
       "      <td>NaN</td>\n",
       "      <td>0.0</td>\n",
       "      <td>NaN</td>\n",
       "      <td>20160321.0</td>\n",
       "    </tr>\n",
       "    <tr>\n",
       "      <th>42</th>\n",
       "      <td>NaN</td>\n",
       "      <td>10.0</td>\n",
       "      <td>NaN</td>\n",
       "      <td>20160522.0</td>\n",
       "    </tr>\n",
       "    <tr>\n",
       "      <th>46</th>\n",
       "      <td>NaN</td>\n",
       "      <td>0.0</td>\n",
       "      <td>NaN</td>\n",
       "      <td>20160322.0</td>\n",
       "    </tr>\n",
       "    <tr>\n",
       "      <th>54</th>\n",
       "      <td>NaN</td>\n",
       "      <td>1.0</td>\n",
       "      <td>NaN</td>\n",
       "      <td>20160621.0</td>\n",
       "    </tr>\n",
       "    <tr>\n",
       "      <th>55</th>\n",
       "      <td>NaN</td>\n",
       "      <td>1.0</td>\n",
       "      <td>NaN</td>\n",
       "      <td>20160523.0</td>\n",
       "    </tr>\n",
       "    <tr>\n",
       "      <th>59</th>\n",
       "      <td>NaN</td>\n",
       "      <td>0.0</td>\n",
       "      <td>NaN</td>\n",
       "      <td>20160613.0</td>\n",
       "    </tr>\n",
       "    <tr>\n",
       "      <th>62</th>\n",
       "      <td>NaN</td>\n",
       "      <td>0.0</td>\n",
       "      <td>NaN</td>\n",
       "      <td>20160106.0</td>\n",
       "    </tr>\n",
       "    <tr>\n",
       "      <th>64</th>\n",
       "      <td>NaN</td>\n",
       "      <td>0.0</td>\n",
       "      <td>NaN</td>\n",
       "      <td>20160324.0</td>\n",
       "    </tr>\n",
       "    <tr>\n",
       "      <th>65</th>\n",
       "      <td>NaN</td>\n",
       "      <td>0.0</td>\n",
       "      <td>NaN</td>\n",
       "      <td>20160627.0</td>\n",
       "    </tr>\n",
       "    <tr>\n",
       "      <th>66</th>\n",
       "      <td>NaN</td>\n",
       "      <td>0.0</td>\n",
       "      <td>NaN</td>\n",
       "      <td>20160114.0</td>\n",
       "    </tr>\n",
       "    <tr>\n",
       "      <th>68</th>\n",
       "      <td>NaN</td>\n",
       "      <td>0.0</td>\n",
       "      <td>NaN</td>\n",
       "      <td>20160130.0</td>\n",
       "    </tr>\n",
       "    <tr>\n",
       "      <th>73</th>\n",
       "      <td>NaN</td>\n",
       "      <td>0.0</td>\n",
       "      <td>NaN</td>\n",
       "      <td>20160614.0</td>\n",
       "    </tr>\n",
       "    <tr>\n",
       "      <th>74</th>\n",
       "      <td>NaN</td>\n",
       "      <td>0.0</td>\n",
       "      <td>NaN</td>\n",
       "      <td>20160326.0</td>\n",
       "    </tr>\n",
       "    <tr>\n",
       "      <th>78</th>\n",
       "      <td>NaN</td>\n",
       "      <td>0.0</td>\n",
       "      <td>NaN</td>\n",
       "      <td>20160624.0</td>\n",
       "    </tr>\n",
       "    <tr>\n",
       "      <th>79</th>\n",
       "      <td>NaN</td>\n",
       "      <td>0.0</td>\n",
       "      <td>NaN</td>\n",
       "      <td>20160612.0</td>\n",
       "    </tr>\n",
       "    <tr>\n",
       "      <th>80</th>\n",
       "      <td>NaN</td>\n",
       "      <td>0.0</td>\n",
       "      <td>NaN</td>\n",
       "      <td>20160609.0</td>\n",
       "    </tr>\n",
       "    <tr>\n",
       "      <th>86</th>\n",
       "      <td>NaN</td>\n",
       "      <td>0.0</td>\n",
       "      <td>NaN</td>\n",
       "      <td>20160328.0</td>\n",
       "    </tr>\n",
       "    <tr>\n",
       "      <th>87</th>\n",
       "      <td>NaN</td>\n",
       "      <td>0.0</td>\n",
       "      <td>NaN</td>\n",
       "      <td>20160415.0</td>\n",
       "    </tr>\n",
       "    <tr>\n",
       "      <th>88</th>\n",
       "      <td>NaN</td>\n",
       "      <td>0.0</td>\n",
       "      <td>NaN</td>\n",
       "      <td>20160627.0</td>\n",
       "    </tr>\n",
       "    <tr>\n",
       "      <th>...</th>\n",
       "      <td>...</td>\n",
       "      <td>...</td>\n",
       "      <td>...</td>\n",
       "      <td>...</td>\n",
       "    </tr>\n",
       "    <tr>\n",
       "      <th>1754793</th>\n",
       "      <td>NaN</td>\n",
       "      <td>0.0</td>\n",
       "      <td>NaN</td>\n",
       "      <td>20160521.0</td>\n",
       "    </tr>\n",
       "    <tr>\n",
       "      <th>1754797</th>\n",
       "      <td>NaN</td>\n",
       "      <td>4.0</td>\n",
       "      <td>NaN</td>\n",
       "      <td>20160130.0</td>\n",
       "    </tr>\n",
       "    <tr>\n",
       "      <th>1754804</th>\n",
       "      <td>NaN</td>\n",
       "      <td>0.0</td>\n",
       "      <td>NaN</td>\n",
       "      <td>20160116.0</td>\n",
       "    </tr>\n",
       "    <tr>\n",
       "      <th>1754809</th>\n",
       "      <td>NaN</td>\n",
       "      <td>0.0</td>\n",
       "      <td>NaN</td>\n",
       "      <td>20160319.0</td>\n",
       "    </tr>\n",
       "    <tr>\n",
       "      <th>1754820</th>\n",
       "      <td>NaN</td>\n",
       "      <td>0.0</td>\n",
       "      <td>NaN</td>\n",
       "      <td>20160628.0</td>\n",
       "    </tr>\n",
       "    <tr>\n",
       "      <th>1754821</th>\n",
       "      <td>NaN</td>\n",
       "      <td>0.0</td>\n",
       "      <td>NaN</td>\n",
       "      <td>20160427.0</td>\n",
       "    </tr>\n",
       "    <tr>\n",
       "      <th>1754824</th>\n",
       "      <td>NaN</td>\n",
       "      <td>0.0</td>\n",
       "      <td>NaN</td>\n",
       "      <td>20160207.0</td>\n",
       "    </tr>\n",
       "    <tr>\n",
       "      <th>1754830</th>\n",
       "      <td>NaN</td>\n",
       "      <td>10.0</td>\n",
       "      <td>NaN</td>\n",
       "      <td>20160508.0</td>\n",
       "    </tr>\n",
       "    <tr>\n",
       "      <th>1754832</th>\n",
       "      <td>NaN</td>\n",
       "      <td>10.0</td>\n",
       "      <td>NaN</td>\n",
       "      <td>20160105.0</td>\n",
       "    </tr>\n",
       "    <tr>\n",
       "      <th>1754836</th>\n",
       "      <td>NaN</td>\n",
       "      <td>0.0</td>\n",
       "      <td>NaN</td>\n",
       "      <td>20160414.0</td>\n",
       "    </tr>\n",
       "    <tr>\n",
       "      <th>1754837</th>\n",
       "      <td>NaN</td>\n",
       "      <td>0.0</td>\n",
       "      <td>NaN</td>\n",
       "      <td>20160528.0</td>\n",
       "    </tr>\n",
       "    <tr>\n",
       "      <th>1754838</th>\n",
       "      <td>NaN</td>\n",
       "      <td>0.0</td>\n",
       "      <td>NaN</td>\n",
       "      <td>20160522.0</td>\n",
       "    </tr>\n",
       "    <tr>\n",
       "      <th>1754840</th>\n",
       "      <td>NaN</td>\n",
       "      <td>0.0</td>\n",
       "      <td>NaN</td>\n",
       "      <td>20160518.0</td>\n",
       "    </tr>\n",
       "    <tr>\n",
       "      <th>1754841</th>\n",
       "      <td>NaN</td>\n",
       "      <td>0.0</td>\n",
       "      <td>NaN</td>\n",
       "      <td>20160115.0</td>\n",
       "    </tr>\n",
       "    <tr>\n",
       "      <th>1754842</th>\n",
       "      <td>NaN</td>\n",
       "      <td>0.0</td>\n",
       "      <td>NaN</td>\n",
       "      <td>20160531.0</td>\n",
       "    </tr>\n",
       "    <tr>\n",
       "      <th>1754846</th>\n",
       "      <td>NaN</td>\n",
       "      <td>0.0</td>\n",
       "      <td>NaN</td>\n",
       "      <td>20160607.0</td>\n",
       "    </tr>\n",
       "    <tr>\n",
       "      <th>1754847</th>\n",
       "      <td>NaN</td>\n",
       "      <td>0.0</td>\n",
       "      <td>NaN</td>\n",
       "      <td>20160421.0</td>\n",
       "    </tr>\n",
       "    <tr>\n",
       "      <th>1754852</th>\n",
       "      <td>NaN</td>\n",
       "      <td>0.0</td>\n",
       "      <td>NaN</td>\n",
       "      <td>20160620.0</td>\n",
       "    </tr>\n",
       "    <tr>\n",
       "      <th>1754863</th>\n",
       "      <td>NaN</td>\n",
       "      <td>5.0</td>\n",
       "      <td>NaN</td>\n",
       "      <td>20160425.0</td>\n",
       "    </tr>\n",
       "    <tr>\n",
       "      <th>1754864</th>\n",
       "      <td>NaN</td>\n",
       "      <td>0.0</td>\n",
       "      <td>NaN</td>\n",
       "      <td>20160418.0</td>\n",
       "    </tr>\n",
       "    <tr>\n",
       "      <th>1754865</th>\n",
       "      <td>NaN</td>\n",
       "      <td>0.0</td>\n",
       "      <td>NaN</td>\n",
       "      <td>20160416.0</td>\n",
       "    </tr>\n",
       "    <tr>\n",
       "      <th>1754867</th>\n",
       "      <td>NaN</td>\n",
       "      <td>0.0</td>\n",
       "      <td>NaN</td>\n",
       "      <td>20160415.0</td>\n",
       "    </tr>\n",
       "    <tr>\n",
       "      <th>1754868</th>\n",
       "      <td>NaN</td>\n",
       "      <td>0.0</td>\n",
       "      <td>NaN</td>\n",
       "      <td>20160626.0</td>\n",
       "    </tr>\n",
       "    <tr>\n",
       "      <th>1754870</th>\n",
       "      <td>NaN</td>\n",
       "      <td>0.0</td>\n",
       "      <td>NaN</td>\n",
       "      <td>20160417.0</td>\n",
       "    </tr>\n",
       "    <tr>\n",
       "      <th>1754871</th>\n",
       "      <td>NaN</td>\n",
       "      <td>0.0</td>\n",
       "      <td>NaN</td>\n",
       "      <td>20160604.0</td>\n",
       "    </tr>\n",
       "    <tr>\n",
       "      <th>1754872</th>\n",
       "      <td>NaN</td>\n",
       "      <td>1.0</td>\n",
       "      <td>NaN</td>\n",
       "      <td>20160308.0</td>\n",
       "    </tr>\n",
       "    <tr>\n",
       "      <th>1754874</th>\n",
       "      <td>NaN</td>\n",
       "      <td>2.0</td>\n",
       "      <td>NaN</td>\n",
       "      <td>20160513.0</td>\n",
       "    </tr>\n",
       "    <tr>\n",
       "      <th>1754875</th>\n",
       "      <td>NaN</td>\n",
       "      <td>2.0</td>\n",
       "      <td>NaN</td>\n",
       "      <td>20160512.0</td>\n",
       "    </tr>\n",
       "    <tr>\n",
       "      <th>1754879</th>\n",
       "      <td>NaN</td>\n",
       "      <td>1.0</td>\n",
       "      <td>NaN</td>\n",
       "      <td>20160322.0</td>\n",
       "    </tr>\n",
       "    <tr>\n",
       "      <th>1754881</th>\n",
       "      <td>NaN</td>\n",
       "      <td>2.0</td>\n",
       "      <td>NaN</td>\n",
       "      <td>20160321.0</td>\n",
       "    </tr>\n",
       "  </tbody>\n",
       "</table>\n",
       "<p>701602 rows × 4 columns</p>\n",
       "</div>"
      ],
      "text/plain": [
       "        Discount_rate  Distance  Date_received        Date\n",
       "0                 NaN       0.0            NaN  20160217.0\n",
       "5                 NaN       0.0            NaN  20160516.0\n",
       "11                NaN       0.0            NaN  20160626.0\n",
       "12                NaN       0.0            NaN  20160519.0\n",
       "14                NaN       1.0            NaN  20160606.0\n",
       "21                NaN       0.0            NaN  20160327.0\n",
       "26                NaN      10.0            NaN  20160115.0\n",
       "28                NaN       0.0            NaN  20160519.0\n",
       "29                NaN       0.0            NaN  20160516.0\n",
       "30                NaN       2.0            NaN  20160114.0\n",
       "34                NaN       0.0            NaN  20160606.0\n",
       "40                NaN       0.0            NaN  20160321.0\n",
       "42                NaN      10.0            NaN  20160522.0\n",
       "46                NaN       0.0            NaN  20160322.0\n",
       "54                NaN       1.0            NaN  20160621.0\n",
       "55                NaN       1.0            NaN  20160523.0\n",
       "59                NaN       0.0            NaN  20160613.0\n",
       "62                NaN       0.0            NaN  20160106.0\n",
       "64                NaN       0.0            NaN  20160324.0\n",
       "65                NaN       0.0            NaN  20160627.0\n",
       "66                NaN       0.0            NaN  20160114.0\n",
       "68                NaN       0.0            NaN  20160130.0\n",
       "73                NaN       0.0            NaN  20160614.0\n",
       "74                NaN       0.0            NaN  20160326.0\n",
       "78                NaN       0.0            NaN  20160624.0\n",
       "79                NaN       0.0            NaN  20160612.0\n",
       "80                NaN       0.0            NaN  20160609.0\n",
       "86                NaN       0.0            NaN  20160328.0\n",
       "87                NaN       0.0            NaN  20160415.0\n",
       "88                NaN       0.0            NaN  20160627.0\n",
       "...               ...       ...            ...         ...\n",
       "1754793           NaN       0.0            NaN  20160521.0\n",
       "1754797           NaN       4.0            NaN  20160130.0\n",
       "1754804           NaN       0.0            NaN  20160116.0\n",
       "1754809           NaN       0.0            NaN  20160319.0\n",
       "1754820           NaN       0.0            NaN  20160628.0\n",
       "1754821           NaN       0.0            NaN  20160427.0\n",
       "1754824           NaN       0.0            NaN  20160207.0\n",
       "1754830           NaN      10.0            NaN  20160508.0\n",
       "1754832           NaN      10.0            NaN  20160105.0\n",
       "1754836           NaN       0.0            NaN  20160414.0\n",
       "1754837           NaN       0.0            NaN  20160528.0\n",
       "1754838           NaN       0.0            NaN  20160522.0\n",
       "1754840           NaN       0.0            NaN  20160518.0\n",
       "1754841           NaN       0.0            NaN  20160115.0\n",
       "1754842           NaN       0.0            NaN  20160531.0\n",
       "1754846           NaN       0.0            NaN  20160607.0\n",
       "1754847           NaN       0.0            NaN  20160421.0\n",
       "1754852           NaN       0.0            NaN  20160620.0\n",
       "1754863           NaN       5.0            NaN  20160425.0\n",
       "1754864           NaN       0.0            NaN  20160418.0\n",
       "1754865           NaN       0.0            NaN  20160416.0\n",
       "1754867           NaN       0.0            NaN  20160415.0\n",
       "1754868           NaN       0.0            NaN  20160626.0\n",
       "1754870           NaN       0.0            NaN  20160417.0\n",
       "1754871           NaN       0.0            NaN  20160604.0\n",
       "1754872           NaN       1.0            NaN  20160308.0\n",
       "1754874           NaN       2.0            NaN  20160513.0\n",
       "1754875           NaN       2.0            NaN  20160512.0\n",
       "1754879           NaN       1.0            NaN  20160322.0\n",
       "1754881           NaN       2.0            NaN  20160321.0\n",
       "\n",
       "[701602 rows x 4 columns]"
      ]
     },
     "execution_count": 20,
     "metadata": {},
     "output_type": "execute_result"
    }
   ],
   "source": [
    "train_df[train_df['Date_received'].isnull() & train_df['Date'].notnull()]"
   ]
  },
  {
   "cell_type": "markdown",
   "metadata": {},
   "source": [
    "## 数据预处理"
   ]
  },
  {
   "cell_type": "code",
   "execution_count": 9,
   "metadata": {},
   "outputs": [],
   "source": [
    "# 'label': Date与Date_received相差15天内\n",
    "train_df_new = pd.DataFrame(columns=['discount', 'threshold', 'distance', 'has_holidays', 'is_holiday', 'label'])"
   ]
  },
  {
   "cell_type": "markdown",
   "metadata": {},
   "source": [
    "### 整理discount -> 'discount', 'thresold'\n",
    "- nan:nan(不处理)     nan                nan\n",
    "- 'A:B'： 满A减B      int(B)/int(A)      A\n",
    "- '0.n'： 折数        float('0.n')       0"
   ]
  },
  {
   "cell_type": "code",
   "execution_count": 10,
   "metadata": {},
   "outputs": [],
   "source": [
    "def process_discount(discountSeries_i):\n",
    "    s = discountSeries_i\n",
    "    if type(s)!=str and np.isnan(s):\n",
    "        return  float(1), 0\n",
    "    if ':'in s:\n",
    "        l = s.split(':')\n",
    "        threshold, minus = int(l[0]), int(l[1])\n",
    "        return (threshold-minus)/threshold, threshold\n",
    "    elif '.'in s:\n",
    "        return float(s), 0"
   ]
  },
  {
   "cell_type": "markdown",
   "metadata": {},
   "source": [
    "- Wall time: 1min 24s"
   ]
  },
  {
   "cell_type": "code",
   "execution_count": 11,
   "metadata": {},
   "outputs": [
    {
     "name": "stdout",
     "output_type": "stream",
     "text": [
      "[1.0, 0.8666666666666667, 0.95, 0.95, 0.95] [0, 150, 20, 20, 20]\n",
      "Wall time: 1min 21s\n"
     ]
    }
   ],
   "source": [
    "%%time\n",
    "l_discount, l_threshold = [], []\n",
    "for i in range(low_len):\n",
    "    result = process_discount(train_df['Discount_rate'][i])\n",
    "    l_discount.append(result[0])\n",
    "    l_threshold.append(result[1])\n",
    "print(l_discount[:5], l_threshold[:5])"
   ]
  },
  {
   "cell_type": "code",
   "execution_count": 12,
   "metadata": {},
   "outputs": [
    {
     "data": {
      "text/html": [
       "<div>\n",
       "<style scoped>\n",
       "    .dataframe tbody tr th:only-of-type {\n",
       "        vertical-align: middle;\n",
       "    }\n",
       "\n",
       "    .dataframe tbody tr th {\n",
       "        vertical-align: top;\n",
       "    }\n",
       "\n",
       "    .dataframe thead th {\n",
       "        text-align: right;\n",
       "    }\n",
       "</style>\n",
       "<table border=\"1\" class=\"dataframe\">\n",
       "  <thead>\n",
       "    <tr style=\"text-align: right;\">\n",
       "      <th></th>\n",
       "      <th>discount</th>\n",
       "      <th>threshold</th>\n",
       "      <th>distance</th>\n",
       "      <th>has_holidays</th>\n",
       "      <th>is_holiday</th>\n",
       "      <th>label</th>\n",
       "    </tr>\n",
       "  </thead>\n",
       "  <tbody>\n",
       "    <tr>\n",
       "      <th>0</th>\n",
       "      <td>1.000000</td>\n",
       "      <td>0</td>\n",
       "      <td>NaN</td>\n",
       "      <td>NaN</td>\n",
       "      <td>NaN</td>\n",
       "      <td>NaN</td>\n",
       "    </tr>\n",
       "    <tr>\n",
       "      <th>1</th>\n",
       "      <td>0.866667</td>\n",
       "      <td>150</td>\n",
       "      <td>NaN</td>\n",
       "      <td>NaN</td>\n",
       "      <td>NaN</td>\n",
       "      <td>NaN</td>\n",
       "    </tr>\n",
       "    <tr>\n",
       "      <th>2</th>\n",
       "      <td>0.950000</td>\n",
       "      <td>20</td>\n",
       "      <td>NaN</td>\n",
       "      <td>NaN</td>\n",
       "      <td>NaN</td>\n",
       "      <td>NaN</td>\n",
       "    </tr>\n",
       "    <tr>\n",
       "      <th>3</th>\n",
       "      <td>0.950000</td>\n",
       "      <td>20</td>\n",
       "      <td>NaN</td>\n",
       "      <td>NaN</td>\n",
       "      <td>NaN</td>\n",
       "      <td>NaN</td>\n",
       "    </tr>\n",
       "    <tr>\n",
       "      <th>4</th>\n",
       "      <td>0.950000</td>\n",
       "      <td>20</td>\n",
       "      <td>NaN</td>\n",
       "      <td>NaN</td>\n",
       "      <td>NaN</td>\n",
       "      <td>NaN</td>\n",
       "    </tr>\n",
       "  </tbody>\n",
       "</table>\n",
       "</div>"
      ],
      "text/plain": [
       "   discount  threshold distance has_holidays is_holiday label\n",
       "0  1.000000          0      NaN          NaN        NaN   NaN\n",
       "1  0.866667        150      NaN          NaN        NaN   NaN\n",
       "2  0.950000         20      NaN          NaN        NaN   NaN\n",
       "3  0.950000         20      NaN          NaN        NaN   NaN\n",
       "4  0.950000         20      NaN          NaN        NaN   NaN"
      ]
     },
     "execution_count": 12,
     "metadata": {},
     "output_type": "execute_result"
    }
   ],
   "source": [
    "train_df_new['discount'] = l_discount\n",
    "train_df_new['threshold'] = l_threshold\n",
    "train_df_new.head(5)"
   ]
  },
  {
   "cell_type": "markdown",
   "metadata": {},
   "source": [
    "### 整理distance"
   ]
  },
  {
   "cell_type": "code",
   "execution_count": 13,
   "metadata": {},
   "outputs": [
    {
     "data": {
      "text/html": [
       "<div>\n",
       "<style scoped>\n",
       "    .dataframe tbody tr th:only-of-type {\n",
       "        vertical-align: middle;\n",
       "    }\n",
       "\n",
       "    .dataframe tbody tr th {\n",
       "        vertical-align: top;\n",
       "    }\n",
       "\n",
       "    .dataframe thead th {\n",
       "        text-align: right;\n",
       "    }\n",
       "</style>\n",
       "<table border=\"1\" class=\"dataframe\">\n",
       "  <thead>\n",
       "    <tr style=\"text-align: right;\">\n",
       "      <th></th>\n",
       "      <th>discount</th>\n",
       "      <th>threshold</th>\n",
       "      <th>distance</th>\n",
       "      <th>has_holidays</th>\n",
       "      <th>is_holiday</th>\n",
       "      <th>label</th>\n",
       "    </tr>\n",
       "  </thead>\n",
       "  <tbody>\n",
       "    <tr>\n",
       "      <th>0</th>\n",
       "      <td>1.000000</td>\n",
       "      <td>0</td>\n",
       "      <td>0.0</td>\n",
       "      <td>NaN</td>\n",
       "      <td>NaN</td>\n",
       "      <td>NaN</td>\n",
       "    </tr>\n",
       "    <tr>\n",
       "      <th>1</th>\n",
       "      <td>0.866667</td>\n",
       "      <td>150</td>\n",
       "      <td>1.0</td>\n",
       "      <td>NaN</td>\n",
       "      <td>NaN</td>\n",
       "      <td>NaN</td>\n",
       "    </tr>\n",
       "    <tr>\n",
       "      <th>2</th>\n",
       "      <td>0.950000</td>\n",
       "      <td>20</td>\n",
       "      <td>0.0</td>\n",
       "      <td>NaN</td>\n",
       "      <td>NaN</td>\n",
       "      <td>NaN</td>\n",
       "    </tr>\n",
       "    <tr>\n",
       "      <th>3</th>\n",
       "      <td>0.950000</td>\n",
       "      <td>20</td>\n",
       "      <td>0.0</td>\n",
       "      <td>NaN</td>\n",
       "      <td>NaN</td>\n",
       "      <td>NaN</td>\n",
       "    </tr>\n",
       "    <tr>\n",
       "      <th>4</th>\n",
       "      <td>0.950000</td>\n",
       "      <td>20</td>\n",
       "      <td>0.0</td>\n",
       "      <td>NaN</td>\n",
       "      <td>NaN</td>\n",
       "      <td>NaN</td>\n",
       "    </tr>\n",
       "  </tbody>\n",
       "</table>\n",
       "</div>"
      ],
      "text/plain": [
       "   discount  threshold  distance has_holidays is_holiday label\n",
       "0  1.000000          0       0.0          NaN        NaN   NaN\n",
       "1  0.866667        150       1.0          NaN        NaN   NaN\n",
       "2  0.950000         20       0.0          NaN        NaN   NaN\n",
       "3  0.950000         20       0.0          NaN        NaN   NaN\n",
       "4  0.950000         20       0.0          NaN        NaN   NaN"
      ]
     },
     "execution_count": 13,
     "metadata": {},
     "output_type": "execute_result"
    }
   ],
   "source": [
    "train_df_new['distance'] = train_df['Distance']\n",
    "train_df_new.head()"
   ]
  },
  {
   "cell_type": "markdown",
   "metadata": {},
   "source": [
    "### 整理Date_received\n",
    "- 当天是否是节假日或周末\n",
    "- 当天往后15天，是否有节假日\n",
    "***\n",
    "标签属性在于Date_received与Date的天数差是否大于15天"
   ]
  },
  {
   "cell_type": "code",
   "execution_count": 14,
   "metadata": {},
   "outputs": [],
   "source": [
    "def process_date(dateSeries_i):\n",
    "    s = dateSeries_i\n",
    "    if np.isnan(s):\n",
    "        return  False, False\n",
    "    else:\n",
    "        d = datetime.strptime(str(int(s)), '%Y%m%d')                                     # date\n",
    "        d_e = d + timedelta(days = 15)\n",
    "        return get_holidays(d, d_e,include_weekends=False)!=[], is_holiday(d)"
   ]
  },
  {
   "cell_type": "markdown",
   "metadata": {},
   "source": [
    "- Wall time: 3min 51s"
   ]
  },
  {
   "cell_type": "code",
   "execution_count": 15,
   "metadata": {},
   "outputs": [
    {
     "name": "stdout",
     "output_type": "stream",
     "text": [
      "[False, True, False, False, False] [False, True, False, True, False]\n",
      "Wall time: 3min 51s\n"
     ]
    }
   ],
   "source": [
    "%%time\n",
    "# 整理Date_received\n",
    "l_has, l_is = [], []\n",
    "for i in range(low_len):\n",
    "    result = process_date(train_df['Date_received'][i])\n",
    "    l_has.append(result[0])\n",
    "    l_is.append(result[1])\n",
    "print(l_has[:5], l_is[:5])"
   ]
  },
  {
   "cell_type": "code",
   "execution_count": 16,
   "metadata": {},
   "outputs": [
    {
     "data": {
      "text/html": [
       "<div>\n",
       "<style scoped>\n",
       "    .dataframe tbody tr th:only-of-type {\n",
       "        vertical-align: middle;\n",
       "    }\n",
       "\n",
       "    .dataframe tbody tr th {\n",
       "        vertical-align: top;\n",
       "    }\n",
       "\n",
       "    .dataframe thead th {\n",
       "        text-align: right;\n",
       "    }\n",
       "</style>\n",
       "<table border=\"1\" class=\"dataframe\">\n",
       "  <thead>\n",
       "    <tr style=\"text-align: right;\">\n",
       "      <th></th>\n",
       "      <th>discount</th>\n",
       "      <th>threshold</th>\n",
       "      <th>distance</th>\n",
       "      <th>has_holidays</th>\n",
       "      <th>is_holiday</th>\n",
       "      <th>label</th>\n",
       "    </tr>\n",
       "  </thead>\n",
       "  <tbody>\n",
       "    <tr>\n",
       "      <th>0</th>\n",
       "      <td>1.000000</td>\n",
       "      <td>0</td>\n",
       "      <td>0.0</td>\n",
       "      <td>False</td>\n",
       "      <td>False</td>\n",
       "      <td>NaN</td>\n",
       "    </tr>\n",
       "    <tr>\n",
       "      <th>1</th>\n",
       "      <td>0.866667</td>\n",
       "      <td>150</td>\n",
       "      <td>1.0</td>\n",
       "      <td>True</td>\n",
       "      <td>True</td>\n",
       "      <td>NaN</td>\n",
       "    </tr>\n",
       "    <tr>\n",
       "      <th>2</th>\n",
       "      <td>0.950000</td>\n",
       "      <td>20</td>\n",
       "      <td>0.0</td>\n",
       "      <td>False</td>\n",
       "      <td>False</td>\n",
       "      <td>NaN</td>\n",
       "    </tr>\n",
       "    <tr>\n",
       "      <th>3</th>\n",
       "      <td>0.950000</td>\n",
       "      <td>20</td>\n",
       "      <td>0.0</td>\n",
       "      <td>False</td>\n",
       "      <td>True</td>\n",
       "      <td>NaN</td>\n",
       "    </tr>\n",
       "    <tr>\n",
       "      <th>4</th>\n",
       "      <td>0.950000</td>\n",
       "      <td>20</td>\n",
       "      <td>0.0</td>\n",
       "      <td>False</td>\n",
       "      <td>False</td>\n",
       "      <td>NaN</td>\n",
       "    </tr>\n",
       "  </tbody>\n",
       "</table>\n",
       "</div>"
      ],
      "text/plain": [
       "   discount  threshold  distance  has_holidays  is_holiday label\n",
       "0  1.000000          0       0.0         False       False   NaN\n",
       "1  0.866667        150       1.0          True        True   NaN\n",
       "2  0.950000         20       0.0         False       False   NaN\n",
       "3  0.950000         20       0.0         False        True   NaN\n",
       "4  0.950000         20       0.0         False       False   NaN"
      ]
     },
     "execution_count": 16,
     "metadata": {},
     "output_type": "execute_result"
    }
   ],
   "source": [
    "train_df_new['has_holidays'] = l_has\n",
    "train_df_new['is_holiday'] = l_is\n",
    "train_df_new.head()"
   ]
  },
  {
   "cell_type": "markdown",
   "metadata": {},
   "source": [
    "### 整理Date（label）"
   ]
  },
  {
   "cell_type": "code",
   "execution_count": 17,
   "metadata": {},
   "outputs": [],
   "source": [
    "def process_label(received_i, date_i):\n",
    "    s, e = received_i, date_i\n",
    "    if np.isnan(s) or np.isnan(date_i):\n",
    "        return  False\n",
    "    else:\n",
    "        d_s = datetime.strptime(str(int(s)), '%Y%m%d')\n",
    "        d_e = datetime.strptime(str(int(e)), '%Y%m%d')\n",
    "        minus = (d_e - d_s).days\n",
    "        return minus<15"
   ]
  },
  {
   "cell_type": "markdown",
   "metadata": {},
   "source": [
    "- Wall time: 2min 47s"
   ]
  },
  {
   "cell_type": "code",
   "execution_count": 18,
   "metadata": {
    "scrolled": true
   },
   "outputs": [
    {
     "name": "stdout",
     "output_type": "stream",
     "text": [
      "[False, False, False, False, False]\n",
      "Wall time: 2min 47s\n"
     ]
    }
   ],
   "source": [
    "%%time\n",
    "# 整理Date\n",
    "l_isbuy = []\n",
    "for i in range(low_len):\n",
    "    result = process_label(train_df['Date_received'][i], train_df['Date'][i])\n",
    "    l_isbuy.append(result)\n",
    "print(l_isbuy[:5])"
   ]
  },
  {
   "cell_type": "code",
   "execution_count": 19,
   "metadata": {},
   "outputs": [
    {
     "data": {
      "text/html": [
       "<div>\n",
       "<style scoped>\n",
       "    .dataframe tbody tr th:only-of-type {\n",
       "        vertical-align: middle;\n",
       "    }\n",
       "\n",
       "    .dataframe tbody tr th {\n",
       "        vertical-align: top;\n",
       "    }\n",
       "\n",
       "    .dataframe thead th {\n",
       "        text-align: right;\n",
       "    }\n",
       "</style>\n",
       "<table border=\"1\" class=\"dataframe\">\n",
       "  <thead>\n",
       "    <tr style=\"text-align: right;\">\n",
       "      <th></th>\n",
       "      <th>discount</th>\n",
       "      <th>threshold</th>\n",
       "      <th>distance</th>\n",
       "      <th>has_holidays</th>\n",
       "      <th>is_holiday</th>\n",
       "      <th>label</th>\n",
       "    </tr>\n",
       "  </thead>\n",
       "  <tbody>\n",
       "    <tr>\n",
       "      <th>0</th>\n",
       "      <td>1.000000</td>\n",
       "      <td>0</td>\n",
       "      <td>0.0</td>\n",
       "      <td>False</td>\n",
       "      <td>False</td>\n",
       "      <td>False</td>\n",
       "    </tr>\n",
       "    <tr>\n",
       "      <th>1</th>\n",
       "      <td>0.866667</td>\n",
       "      <td>150</td>\n",
       "      <td>1.0</td>\n",
       "      <td>True</td>\n",
       "      <td>True</td>\n",
       "      <td>False</td>\n",
       "    </tr>\n",
       "    <tr>\n",
       "      <th>2</th>\n",
       "      <td>0.950000</td>\n",
       "      <td>20</td>\n",
       "      <td>0.0</td>\n",
       "      <td>False</td>\n",
       "      <td>False</td>\n",
       "      <td>False</td>\n",
       "    </tr>\n",
       "    <tr>\n",
       "      <th>3</th>\n",
       "      <td>0.950000</td>\n",
       "      <td>20</td>\n",
       "      <td>0.0</td>\n",
       "      <td>False</td>\n",
       "      <td>True</td>\n",
       "      <td>False</td>\n",
       "    </tr>\n",
       "    <tr>\n",
       "      <th>4</th>\n",
       "      <td>0.950000</td>\n",
       "      <td>20</td>\n",
       "      <td>0.0</td>\n",
       "      <td>False</td>\n",
       "      <td>False</td>\n",
       "      <td>False</td>\n",
       "    </tr>\n",
       "  </tbody>\n",
       "</table>\n",
       "</div>"
      ],
      "text/plain": [
       "   discount  threshold  distance  has_holidays  is_holiday  label\n",
       "0  1.000000          0       0.0         False       False  False\n",
       "1  0.866667        150       1.0          True        True  False\n",
       "2  0.950000         20       0.0         False       False  False\n",
       "3  0.950000         20       0.0         False        True  False\n",
       "4  0.950000         20       0.0         False       False  False"
      ]
     },
     "execution_count": 19,
     "metadata": {},
     "output_type": "execute_result"
    }
   ],
   "source": [
    "train_df_new['label'] = l_isbuy\n",
    "train_df_new[train_df_new['label'].notnull()].head()"
   ]
  },
  {
   "cell_type": "code",
   "execution_count": 20,
   "metadata": {},
   "outputs": [
    {
     "data": {
      "text/html": [
       "<div>\n",
       "<style scoped>\n",
       "    .dataframe tbody tr th:only-of-type {\n",
       "        vertical-align: middle;\n",
       "    }\n",
       "\n",
       "    .dataframe tbody tr th {\n",
       "        vertical-align: top;\n",
       "    }\n",
       "\n",
       "    .dataframe thead th {\n",
       "        text-align: right;\n",
       "    }\n",
       "</style>\n",
       "<table border=\"1\" class=\"dataframe\">\n",
       "  <thead>\n",
       "    <tr style=\"text-align: right;\">\n",
       "      <th></th>\n",
       "      <th>discount</th>\n",
       "      <th>threshold</th>\n",
       "      <th>distance</th>\n",
       "      <th>has_holidays</th>\n",
       "      <th>is_holiday</th>\n",
       "      <th>label</th>\n",
       "    </tr>\n",
       "  </thead>\n",
       "  <tbody>\n",
       "    <tr>\n",
       "      <th>0</th>\n",
       "      <td>1.000000</td>\n",
       "      <td>0</td>\n",
       "      <td>0.0</td>\n",
       "      <td>False</td>\n",
       "      <td>False</td>\n",
       "      <td>False</td>\n",
       "    </tr>\n",
       "    <tr>\n",
       "      <th>1</th>\n",
       "      <td>0.866667</td>\n",
       "      <td>150</td>\n",
       "      <td>1.0</td>\n",
       "      <td>True</td>\n",
       "      <td>True</td>\n",
       "      <td>False</td>\n",
       "    </tr>\n",
       "    <tr>\n",
       "      <th>2</th>\n",
       "      <td>0.950000</td>\n",
       "      <td>20</td>\n",
       "      <td>0.0</td>\n",
       "      <td>False</td>\n",
       "      <td>False</td>\n",
       "      <td>False</td>\n",
       "    </tr>\n",
       "    <tr>\n",
       "      <th>3</th>\n",
       "      <td>0.950000</td>\n",
       "      <td>20</td>\n",
       "      <td>0.0</td>\n",
       "      <td>False</td>\n",
       "      <td>True</td>\n",
       "      <td>False</td>\n",
       "    </tr>\n",
       "    <tr>\n",
       "      <th>4</th>\n",
       "      <td>0.950000</td>\n",
       "      <td>20</td>\n",
       "      <td>0.0</td>\n",
       "      <td>False</td>\n",
       "      <td>False</td>\n",
       "      <td>False</td>\n",
       "    </tr>\n",
       "  </tbody>\n",
       "</table>\n",
       "</div>"
      ],
      "text/plain": [
       "   discount  threshold  distance  has_holidays  is_holiday  label\n",
       "0  1.000000          0       0.0         False       False  False\n",
       "1  0.866667        150       1.0          True        True  False\n",
       "2  0.950000         20       0.0         False       False  False\n",
       "3  0.950000         20       0.0         False        True  False\n",
       "4  0.950000         20       0.0         False       False  False"
      ]
     },
     "execution_count": 20,
     "metadata": {},
     "output_type": "execute_result"
    }
   ],
   "source": [
    "### 保存train_df_new\n",
    "train_df_new.to_csv('./train_df_new.csv',sep=',',index=False) \n",
    "train_df_new.head()"
   ]
  },
  {
   "cell_type": "markdown",
   "metadata": {},
   "source": [
    "## 去除空值（决策树）"
   ]
  },
  {
   "cell_type": "markdown",
   "metadata": {},
   "source": [
    "1754884个数据，空值率分别为：\n",
    "\n",
    "| discount | threshold | distance | has_holidays | is_holiday | label |\n",
    "| --- | --- | --- | --- |  --- | --- | \n",
    "| 0. | 0.. | 106003 | 0. |  0. | 0. |  \n",
    "\n",
    "- [\"discount\", \"threshold\", \"distance\", \"has_holidays\", \"is_holiday\", \"label\"]"
   ]
  },
  {
   "cell_type": "code",
   "execution_count": 15,
   "metadata": {},
   "outputs": [
    {
     "data": {
      "text/html": [
       "<div>\n",
       "<style scoped>\n",
       "    .dataframe tbody tr th:only-of-type {\n",
       "        vertical-align: middle;\n",
       "    }\n",
       "\n",
       "    .dataframe tbody tr th {\n",
       "        vertical-align: top;\n",
       "    }\n",
       "\n",
       "    .dataframe thead th {\n",
       "        text-align: right;\n",
       "    }\n",
       "</style>\n",
       "<table border=\"1\" class=\"dataframe\">\n",
       "  <thead>\n",
       "    <tr style=\"text-align: right;\">\n",
       "      <th></th>\n",
       "      <th>discount</th>\n",
       "      <th>threshold</th>\n",
       "      <th>distance</th>\n",
       "      <th>has_holidays</th>\n",
       "      <th>is_holiday</th>\n",
       "      <th>label</th>\n",
       "    </tr>\n",
       "  </thead>\n",
       "  <tbody>\n",
       "    <tr>\n",
       "      <th>0</th>\n",
       "      <td>1.000000</td>\n",
       "      <td>0</td>\n",
       "      <td>0.0</td>\n",
       "      <td>False</td>\n",
       "      <td>False</td>\n",
       "      <td>False</td>\n",
       "    </tr>\n",
       "    <tr>\n",
       "      <th>1</th>\n",
       "      <td>0.866667</td>\n",
       "      <td>150</td>\n",
       "      <td>1.0</td>\n",
       "      <td>True</td>\n",
       "      <td>True</td>\n",
       "      <td>False</td>\n",
       "    </tr>\n",
       "    <tr>\n",
       "      <th>2</th>\n",
       "      <td>0.950000</td>\n",
       "      <td>20</td>\n",
       "      <td>0.0</td>\n",
       "      <td>False</td>\n",
       "      <td>False</td>\n",
       "      <td>False</td>\n",
       "    </tr>\n",
       "    <tr>\n",
       "      <th>3</th>\n",
       "      <td>0.950000</td>\n",
       "      <td>20</td>\n",
       "      <td>0.0</td>\n",
       "      <td>False</td>\n",
       "      <td>True</td>\n",
       "      <td>False</td>\n",
       "    </tr>\n",
       "    <tr>\n",
       "      <th>4</th>\n",
       "      <td>0.950000</td>\n",
       "      <td>20</td>\n",
       "      <td>0.0</td>\n",
       "      <td>False</td>\n",
       "      <td>False</td>\n",
       "      <td>False</td>\n",
       "    </tr>\n",
       "  </tbody>\n",
       "</table>\n",
       "</div>"
      ],
      "text/plain": [
       "   discount  threshold  distance  has_holidays  is_holiday  label\n",
       "0  1.000000          0       0.0         False       False  False\n",
       "1  0.866667        150       1.0          True        True  False\n",
       "2  0.950000         20       0.0         False       False  False\n",
       "3  0.950000         20       0.0         False        True  False\n",
       "4  0.950000         20       0.0         False       False  False"
      ]
     },
     "execution_count": 15,
     "metadata": {},
     "output_type": "execute_result"
    }
   ],
   "source": [
    "### 导入train_df_new\n",
    "train_df_new = pd.read_csv('./train_df_new.csv')\n",
    "train_df_new.head()"
   ]
  },
  {
   "cell_type": "code",
   "execution_count": 16,
   "metadata": {},
   "outputs": [],
   "source": [
    "def count_nan_rate(series):\n",
    "    return series.isnull().sum()/low_len"
   ]
  },
  {
   "cell_type": "code",
   "execution_count": 11,
   "metadata": {},
   "outputs": [
    {
     "data": {
      "text/plain": [
       "(0, 0, 106003, 0, 0, 0)"
      ]
     },
     "execution_count": 11,
     "metadata": {},
     "output_type": "execute_result"
    }
   ],
   "source": [
    "# 统计空值数量\n",
    "train_df_new['discount'].isnull().sum(), train_df_new['threshold'].isnull().sum(), \\\n",
    "train_df_new['distance'].isnull().sum(), train_df_new['has_holidays'].isnull().sum(), \\\n",
    "train_df_new['is_holiday'].isnull().sum(), train_df_new['label'].isnull().sum(), \\"
   ]
  },
  {
   "cell_type": "code",
   "execution_count": 12,
   "metadata": {},
   "outputs": [
    {
     "data": {
      "text/plain": [
       "(0.0, 0.0, 0.060404562352839274, 0.0, 0.0, 0.0)"
      ]
     },
     "execution_count": 12,
     "metadata": {},
     "output_type": "execute_result"
    }
   ],
   "source": [
    "# 统计空值比例\n",
    "count_nan_rate(train_df_new['discount']), count_nan_rate(train_df_new['threshold']),    \\\n",
    "count_nan_rate(train_df_new['distance']), count_nan_rate(train_df_new['has_holidays']), \\\n",
    "count_nan_rate(train_df_new['is_holiday']), count_nan_rate(train_df_new['label'])"
   ]
  },
  {
   "cell_type": "markdown",
   "metadata": {},
   "source": [
    "### 自定义函数"
   ]
  },
  {
   "cell_type": "code",
   "execution_count": 13,
   "metadata": {},
   "outputs": [],
   "source": [
    "# 训练某个缺少值并得到训练模型,(not_null_df是全局变量)\n",
    "def dt_fit_train(predictName):\n",
    "    # 根据predictName整理数据集\n",
    "    if predictName=='distance':\n",
    "        exe_l = ['discount','threshold', 'has_holidays', 'is_holiday', 'label', 'distance']\n",
    "        X, Y = not_null_df[exe_l[:5]], not_null_df[exe_l[5]]\n",
    "    elif predictName in ['discount','threshold']:\n",
    "        exe_l = ['has_holidays', 'is_holiday', 'distance', 'discount','threshold']                    # discount列不存在其他四列非空\n",
    "        X, Y = not_null_df[exe_l[:3]], not_null_df[exe_l[3:]]\n",
    "    elif predictName in ['has_holidays', 'is_holiday']:\n",
    "        exe_l = ['label', 'distance', 'discount','threshold', 'has_holidays', 'is_holiday']\n",
    "        X, Y = not_null_df[exe_l[:4]], not_null_df[exe_l[4:]]\n",
    "    elif predictName=='label':\n",
    "        exe_l = ['discount','threshold', 'has_holidays', 'is_holiday', 'distance', 'label']\n",
    "        X, Y = not_null_df[exe_l[:5]], not_null_df[exe_l[5]]\n",
    "        \n",
    "    # 如果Y有两列，拆分分别训练\n",
    "    print(X.shape,Y.shape)\n",
    "    if len(Y.shape)>1:\n",
    "        Y = Y[predictName]\n",
    "#     print(X.head(),Y.head())\n",
    "    \n",
    "    # 分割训练集\n",
    "    X_train, X_test, Y_train, Y_test = train_test_split(X, Y, test_size = 0.3, random_state = 0)\n",
    "    print(X_train.head(),Y_train.head())\n",
    "    \n",
    "    # 训练\n",
    "    predict_clr = DecisionTreeClassifier(criterion = 'entropy', random_state = 0)\n",
    "    predict_clr.fit(X_train, Y_train.astype('int'))\n",
    "    \n",
    "    \n",
    "    # 测试效果\n",
    "    score = predict_clr.score(X_test, Y_test.astype('int'))     \n",
    "    \n",
    "    return predict_clr, score"
   ]
  },
  {
   "cell_type": "code",
   "execution_count": 14,
   "metadata": {},
   "outputs": [],
   "source": [
    "# 导出indexs文件，存储特定查询的indexs\n",
    "def exe_indexs(predictName):\n",
    "    if predictName=='distance':\n",
    "        indexs_0 = train_df_new[train_df_new['discount'].notnull()&train_df_new['threshold'].notnull()&train_df_new['has_holidays'].notnull()\\\n",
    "&train_df_new['is_holiday'].notnull()&train_df_new['label'].notnull()&train_df_new['distance'].isnull()].index\n",
    "    elif predictName in ['discount','threshold']:\n",
    "        indexs_0 = train_df_new[train_df_new['distance'].notnull()&train_df_new['has_holidays'].notnull()&train_df_new['is_holiday'].notnull()\\\n",
    "&train_df_new['discount'].isnull()].index                                                   # discount列不存在其他四列非空，不计算label\n",
    "    elif predictName in ['has_holidays', 'is_holiday']:\n",
    "        indexs_0 = train_df_new[train_df_new['discount'].notnull()&train_df_new['threshold'].notnull()&train_df_new['distance'].notnull()\\\n",
    "&train_df_new['label'].notnull()&train_df_new['has_holidays'].isnull()].index\n",
    "    elif predictName=='label':\n",
    "        indexs_0 = train_df_new[train_df_new['discount'].notnull()&train_df_new['threshold'].notnull()&train_df_new['has_holidays'].notnull()\\\n",
    "&train_df_new['is_holiday'].notnull()&train_df_new['distance'].notnull()&train_df_new['label'].isnull()].index\n",
    "    \n",
    "    print(indexs_0[:20])\n",
    "    indexs = pd.DataFrame(list(indexs_0))\n",
    "    print(indexs.head(20))\n",
    "    indexs.to_csv('./indexs_%s.csv'%predictName, sep=',', index=False)"
   ]
  },
  {
   "cell_type": "code",
   "execution_count": 15,
   "metadata": {},
   "outputs": [],
   "source": [
    "# 利用模型预测缺失值，直接在train_df_new里修改\n",
    "def dt_pre(predictName, dtClassifier):\n",
    "    indexs = list(pd.read_csv('./indexs_%s.csv'%predictName).iloc[:,0])\n",
    "    \n",
    "    # 分割数据集df\n",
    "    columns = [\"discount\",\"threshold\",\"distance\",\"has_holidays\",\"is_holiday\",\"label\"]\n",
    "    columns_sep = [s for s in columns if s!=predictName]\n",
    "    X_test = train_df_new.reindex(indexs)[columns_sep]\n",
    "#     print('X_test', X_test.head())\n",
    "\n",
    "    # 预测\n",
    "    Y_pred = list(dtClassifier.predict(X_test))\n",
    "    print(Counter(Y_pred))\n",
    "    \n",
    "    # 更改数据\n",
    "    train_df_new.loc[indexs, predictName]  = Y_pred\n",
    "\n",
    "    print(\"数据成功更改\")\n",
    "#     print(train_df_new[predictName])"
   ]
  },
  {
   "cell_type": "markdown",
   "metadata": {},
   "source": [
    "### 预测distance\n",
    "- 67165个数据，占比约4%"
   ]
  },
  {
   "cell_type": "code",
   "execution_count": 16,
   "metadata": {
    "code_folding": []
   },
   "outputs": [
    {
     "name": "stdout",
     "output_type": "stream",
     "text": [
      "1648881\n"
     ]
    },
    {
     "data": {
      "text/html": [
       "<div>\n",
       "<style scoped>\n",
       "    .dataframe tbody tr th:only-of-type {\n",
       "        vertical-align: middle;\n",
       "    }\n",
       "\n",
       "    .dataframe tbody tr th {\n",
       "        vertical-align: top;\n",
       "    }\n",
       "\n",
       "    .dataframe thead th {\n",
       "        text-align: right;\n",
       "    }\n",
       "</style>\n",
       "<table border=\"1\" class=\"dataframe\">\n",
       "  <thead>\n",
       "    <tr style=\"text-align: right;\">\n",
       "      <th></th>\n",
       "      <th>discount</th>\n",
       "      <th>threshold</th>\n",
       "      <th>distance</th>\n",
       "      <th>has_holidays</th>\n",
       "      <th>is_holiday</th>\n",
       "      <th>label</th>\n",
       "    </tr>\n",
       "  </thead>\n",
       "  <tbody>\n",
       "    <tr>\n",
       "      <th>0</th>\n",
       "      <td>1.000000</td>\n",
       "      <td>0</td>\n",
       "      <td>0.0</td>\n",
       "      <td>False</td>\n",
       "      <td>False</td>\n",
       "      <td>False</td>\n",
       "    </tr>\n",
       "    <tr>\n",
       "      <th>1</th>\n",
       "      <td>0.866667</td>\n",
       "      <td>150</td>\n",
       "      <td>1.0</td>\n",
       "      <td>True</td>\n",
       "      <td>True</td>\n",
       "      <td>False</td>\n",
       "    </tr>\n",
       "    <tr>\n",
       "      <th>2</th>\n",
       "      <td>0.950000</td>\n",
       "      <td>20</td>\n",
       "      <td>0.0</td>\n",
       "      <td>False</td>\n",
       "      <td>False</td>\n",
       "      <td>False</td>\n",
       "    </tr>\n",
       "    <tr>\n",
       "      <th>3</th>\n",
       "      <td>0.950000</td>\n",
       "      <td>20</td>\n",
       "      <td>0.0</td>\n",
       "      <td>False</td>\n",
       "      <td>True</td>\n",
       "      <td>False</td>\n",
       "    </tr>\n",
       "    <tr>\n",
       "      <th>4</th>\n",
       "      <td>0.950000</td>\n",
       "      <td>20</td>\n",
       "      <td>0.0</td>\n",
       "      <td>False</td>\n",
       "      <td>False</td>\n",
       "      <td>False</td>\n",
       "    </tr>\n",
       "  </tbody>\n",
       "</table>\n",
       "</div>"
      ],
      "text/plain": [
       "   discount  threshold  distance  has_holidays  is_holiday  label\n",
       "0  1.000000          0       0.0         False       False  False\n",
       "1  0.866667        150       1.0          True        True  False\n",
       "2  0.950000         20       0.0         False       False  False\n",
       "3  0.950000         20       0.0         False        True  False\n",
       "4  0.950000         20       0.0         False       False  False"
      ]
     },
     "execution_count": 16,
     "metadata": {},
     "output_type": "execute_result"
    }
   ],
   "source": [
    "# 不为空的子集，作为训练集\n",
    "not_null_df = train_df_new[train_df_new['discount'].notnull() & train_df_new['threshold'].notnull() \\\n",
    "                          & train_df_new['distance'].notnull() & train_df_new['has_holidays'].notnull()                \\\n",
    "                          & train_df_new['is_holiday'].notnull()  & train_df_new['label'].notnull()]\n",
    "\n",
    "print(len(not_null_df))\n",
    "not_null_df.head()"
   ]
  },
  {
   "cell_type": "code",
   "execution_count": 17,
   "metadata": {},
   "outputs": [
    {
     "name": "stdout",
     "output_type": "stream",
     "text": [
      "(1648881, 5) (1648881,)\n",
      "         discount  threshold  has_holidays  is_holiday  label\n",
      "1572627  1.000000          0         False       False  False\n",
      "1740577  0.933333        150          True       False  False\n",
      "32959    0.900000        100          True        True  False\n",
      "38492    1.000000          0         False       False  False\n",
      "175547   0.750000         20          True       False  False 1572627    1.0\n",
      "1740577    3.0\n",
      "32959      5.0\n",
      "38492      1.0\n",
      "175547     0.0\n",
      "Name: distance, dtype: float64\n",
      "正确率：  0.524508505756421\n"
     ]
    }
   ],
   "source": [
    "predictName = 'distance'\n",
    "# 训练\n",
    "model, score = dt_fit_train(predictName)\n",
    "best_score = 0.5221210314050924\n",
    "\n",
    "print('正确率： ',score)"
   ]
  },
  {
   "cell_type": "code",
   "execution_count": 18,
   "metadata": {},
   "outputs": [
    {
     "name": "stdout",
     "output_type": "stream",
     "text": [
      "模型已导出\n"
     ]
    }
   ],
   "source": [
    "# 导出模型\n",
    "mes = datetime.now().strftime('%y%m%d_%H')                            # 以时间为导出模型文件名\n",
    "## 该模型信息是否存在\n",
    "if not os.path.isfile('../Model/model_dis_%s.pkl'%mes): \n",
    "    if score>best_score:\n",
    "        with open('../Model/model_dis_%s.pkl'%mes, 'wb') as f:\n",
    "            pickle.dump(model, f)                                           # 导出模型\n",
    "            print(\"模型已导出\")\n",
    "            \n",
    "# 导入模型\n",
    "# with open('../Model/model%s.pkl'%mes, 'rb') as f:\n",
    "#     model = pickle.load(f)                                          \n",
    "#     print(\"模型已导入\")"
   ]
  },
  {
   "cell_type": "code",
   "execution_count": 19,
   "metadata": {},
   "outputs": [
    {
     "name": "stdout",
     "output_type": "stream",
     "text": [
      "Int64Index([ 13,  17,  24,  52,  58, 112, 130, 131, 132, 133, 134, 135, 136,\n",
      "            139, 140, 154, 209, 217, 280, 380],\n",
      "           dtype='int64')\n",
      "      0\n",
      "0    13\n",
      "1    17\n",
      "2    24\n",
      "3    52\n",
      "4    58\n",
      "5   112\n",
      "6   130\n",
      "7   131\n",
      "8   132\n",
      "9   133\n",
      "10  134\n",
      "11  135\n",
      "12  136\n",
      "13  139\n",
      "14  140\n",
      "15  154\n",
      "16  209\n",
      "17  217\n",
      "18  280\n",
      "19  380\n"
     ]
    }
   ],
   "source": [
    "exe_indexs(predictName)"
   ]
  },
  {
   "cell_type": "code",
   "execution_count": 20,
   "metadata": {},
   "outputs": [
    {
     "name": "stdout",
     "output_type": "stream",
     "text": [
      "Counter({0: 80971, 10: 24918, 1: 94, 2: 16, 6: 3, 5: 1})\n",
      "数据成功更改\n"
     ]
    },
    {
     "data": {
      "text/plain": [
       "(0, '增加了：', 106003)"
      ]
     },
     "execution_count": 20,
     "metadata": {},
     "output_type": "execute_result"
    }
   ],
   "source": [
    "dt_pre(predictName, model)\n",
    "train_df_new[predictName].isnull().sum(), '增加了：', 106003-train_df_new[predictName].isnull().sum()"
   ]
  },
  {
   "cell_type": "code",
   "execution_count": 21,
   "metadata": {},
   "outputs": [
    {
     "name": "stdout",
     "output_type": "stream",
     "text": [
      "1754884\n"
     ]
    },
    {
     "data": {
      "text/html": [
       "<div>\n",
       "<style scoped>\n",
       "    .dataframe tbody tr th:only-of-type {\n",
       "        vertical-align: middle;\n",
       "    }\n",
       "\n",
       "    .dataframe tbody tr th {\n",
       "        vertical-align: top;\n",
       "    }\n",
       "\n",
       "    .dataframe thead th {\n",
       "        text-align: right;\n",
       "    }\n",
       "</style>\n",
       "<table border=\"1\" class=\"dataframe\">\n",
       "  <thead>\n",
       "    <tr style=\"text-align: right;\">\n",
       "      <th></th>\n",
       "      <th>discount</th>\n",
       "      <th>threshold</th>\n",
       "      <th>distance</th>\n",
       "      <th>has_holidays</th>\n",
       "      <th>is_holiday</th>\n",
       "      <th>label</th>\n",
       "    </tr>\n",
       "  </thead>\n",
       "  <tbody>\n",
       "    <tr>\n",
       "      <th>0</th>\n",
       "      <td>1.000000</td>\n",
       "      <td>0</td>\n",
       "      <td>0.0</td>\n",
       "      <td>False</td>\n",
       "      <td>False</td>\n",
       "      <td>False</td>\n",
       "    </tr>\n",
       "    <tr>\n",
       "      <th>1</th>\n",
       "      <td>0.866667</td>\n",
       "      <td>150</td>\n",
       "      <td>1.0</td>\n",
       "      <td>True</td>\n",
       "      <td>True</td>\n",
       "      <td>False</td>\n",
       "    </tr>\n",
       "    <tr>\n",
       "      <th>2</th>\n",
       "      <td>0.950000</td>\n",
       "      <td>20</td>\n",
       "      <td>0.0</td>\n",
       "      <td>False</td>\n",
       "      <td>False</td>\n",
       "      <td>False</td>\n",
       "    </tr>\n",
       "    <tr>\n",
       "      <th>3</th>\n",
       "      <td>0.950000</td>\n",
       "      <td>20</td>\n",
       "      <td>0.0</td>\n",
       "      <td>False</td>\n",
       "      <td>True</td>\n",
       "      <td>False</td>\n",
       "    </tr>\n",
       "    <tr>\n",
       "      <th>4</th>\n",
       "      <td>0.950000</td>\n",
       "      <td>20</td>\n",
       "      <td>0.0</td>\n",
       "      <td>False</td>\n",
       "      <td>False</td>\n",
       "      <td>False</td>\n",
       "    </tr>\n",
       "  </tbody>\n",
       "</table>\n",
       "</div>"
      ],
      "text/plain": [
       "   discount  threshold  distance  has_holidays  is_holiday  label\n",
       "0  1.000000          0       0.0         False       False  False\n",
       "1  0.866667        150       1.0          True        True  False\n",
       "2  0.950000         20       0.0         False       False  False\n",
       "3  0.950000         20       0.0         False        True  False\n",
       "4  0.950000         20       0.0         False       False  False"
      ]
     },
     "execution_count": 21,
     "metadata": {},
     "output_type": "execute_result"
    }
   ],
   "source": [
    "# 不为空的子集，作为训练集\n",
    "not_null_df = train_df_new[train_df_new['discount'].notnull() & train_df_new['threshold'].notnull() \\\n",
    "                          & train_df_new['distance'].notnull() & train_df_new['has_holidays'].notnull()                \\\n",
    "                          & train_df_new['is_holiday'].notnull()  & train_df_new['label'].notnull()]\n",
    "\n",
    "print(len(not_null_df))\n",
    "not_null_df.head()"
   ]
  },
  {
   "cell_type": "markdown",
   "metadata": {},
   "source": [
    "### 空值数量"
   ]
  },
  {
   "cell_type": "code",
   "execution_count": 22,
   "metadata": {},
   "outputs": [
    {
     "data": {
      "text/plain": [
       "(0, 0, 0, 0, 0, 0)"
      ]
     },
     "execution_count": 22,
     "metadata": {},
     "output_type": "execute_result"
    }
   ],
   "source": [
    "# 统计空值数量\n",
    "train_df_new['discount'].isnull().sum(), train_df_new['threshold'].isnull().sum(), \\\n",
    "train_df_new['distance'].isnull().sum(), train_df_new['has_holidays'].isnull().sum(), \\\n",
    "train_df_new['is_holiday'].isnull().sum(), train_df_new['label'].isnull().sum(), \\"
   ]
  },
  {
   "cell_type": "markdown",
   "metadata": {},
   "source": [
    "## 决策树训练"
   ]
  },
  {
   "cell_type": "code",
   "execution_count": 23,
   "metadata": {},
   "outputs": [
    {
     "data": {
      "text/html": [
       "<div>\n",
       "<style scoped>\n",
       "    .dataframe tbody tr th:only-of-type {\n",
       "        vertical-align: middle;\n",
       "    }\n",
       "\n",
       "    .dataframe tbody tr th {\n",
       "        vertical-align: top;\n",
       "    }\n",
       "\n",
       "    .dataframe thead th {\n",
       "        text-align: right;\n",
       "    }\n",
       "</style>\n",
       "<table border=\"1\" class=\"dataframe\">\n",
       "  <thead>\n",
       "    <tr style=\"text-align: right;\">\n",
       "      <th></th>\n",
       "      <th>discount</th>\n",
       "      <th>threshold</th>\n",
       "      <th>distance</th>\n",
       "      <th>has_holidays</th>\n",
       "      <th>is_holiday</th>\n",
       "      <th>label</th>\n",
       "    </tr>\n",
       "  </thead>\n",
       "  <tbody>\n",
       "    <tr>\n",
       "      <th>0</th>\n",
       "      <td>1.000000</td>\n",
       "      <td>0</td>\n",
       "      <td>0.0</td>\n",
       "      <td>False</td>\n",
       "      <td>False</td>\n",
       "      <td>False</td>\n",
       "    </tr>\n",
       "    <tr>\n",
       "      <th>1</th>\n",
       "      <td>0.866667</td>\n",
       "      <td>150</td>\n",
       "      <td>1.0</td>\n",
       "      <td>True</td>\n",
       "      <td>True</td>\n",
       "      <td>False</td>\n",
       "    </tr>\n",
       "    <tr>\n",
       "      <th>2</th>\n",
       "      <td>0.950000</td>\n",
       "      <td>20</td>\n",
       "      <td>0.0</td>\n",
       "      <td>False</td>\n",
       "      <td>False</td>\n",
       "      <td>False</td>\n",
       "    </tr>\n",
       "    <tr>\n",
       "      <th>3</th>\n",
       "      <td>0.950000</td>\n",
       "      <td>20</td>\n",
       "      <td>0.0</td>\n",
       "      <td>False</td>\n",
       "      <td>True</td>\n",
       "      <td>False</td>\n",
       "    </tr>\n",
       "    <tr>\n",
       "      <th>4</th>\n",
       "      <td>0.950000</td>\n",
       "      <td>20</td>\n",
       "      <td>0.0</td>\n",
       "      <td>False</td>\n",
       "      <td>False</td>\n",
       "      <td>False</td>\n",
       "    </tr>\n",
       "  </tbody>\n",
       "</table>\n",
       "</div>"
      ],
      "text/plain": [
       "   discount  threshold  distance  has_holidays  is_holiday  label\n",
       "0  1.000000          0       0.0         False       False  False\n",
       "1  0.866667        150       1.0          True        True  False\n",
       "2  0.950000         20       0.0         False       False  False\n",
       "3  0.950000         20       0.0         False        True  False\n",
       "4  0.950000         20       0.0         False       False  False"
      ]
     },
     "execution_count": 23,
     "metadata": {},
     "output_type": "execute_result"
    }
   ],
   "source": [
    "train_df_new.head()"
   ]
  },
  {
   "cell_type": "code",
   "execution_count": 24,
   "metadata": {},
   "outputs": [
    {
     "name": "stdout",
     "output_type": "stream",
     "text": [
      "正确率 0.9643072867003757\n",
      "         discount  threshold  distance  has_holidays  is_holiday\n",
      "26931        1.00          0       1.0         False       False\n",
      "1179025      0.90         50      10.0          True       False\n",
      "925797       0.85        200       0.0         False       False\n",
      "1240582      1.00          0       6.0         False       False\n",
      "1602068      1.00          0       0.0         False       False\n",
      "         label\n",
      "26931    False\n",
      "1179025  False\n",
      "925797   False\n",
      "1240582  False\n",
      "1602068  False\n",
      "[[1.         0.        ]\n",
      " [0.99342105 0.00657895]\n",
      " [0.98656716 0.01343284]\n",
      " [1.         0.        ]\n",
      " [1.         0.        ]\n",
      " [0.90991135 0.09008865]\n",
      " [0.99373041 0.00626959]\n",
      " [1.         0.        ]\n",
      " [1.         0.        ]\n",
      " [1.         0.        ]]\n"
     ]
    }
   ],
   "source": [
    "# train_df_new\n",
    "# 整理数据集\n",
    "X, Y = train_df_new[[\"discount\",\"threshold\",\"distance\",\"has_holidays\",\"is_holiday\"]], train_df_new[['label']]\n",
    "# print(X.head())\n",
    "# print(Y.head())\n",
    "\n",
    "# 分割训练集\n",
    "X_train, X_test, Y_train, Y_test = train_test_split(X, Y, test_size = 0.3, random_state = 0)\n",
    "# print(X_train.head(),Y_train.head())\n",
    "\n",
    "# 训练\n",
    "predict_clr = DecisionTreeClassifier(criterion = 'entropy', random_state = 1)\n",
    "predict_clr.fit(X_train, Y_train.astype('int'))\n",
    "\n",
    "\n",
    "# 测试效果\n",
    "score = predict_clr.score(X_test, Y_test.astype('int'))     \n",
    "best_score = 0.9643072867003757\n",
    "print('正确率',score)\n",
    "Y_pred = predict_clr.predict_proba(X_test)\n",
    "print(X_test.head())\n",
    "print(Y_test.head())\n",
    "print(Y_pred[:10])"
   ]
  },
  {
   "cell_type": "code",
   "execution_count": 25,
   "metadata": {},
   "outputs": [
    {
     "name": "stdout",
     "output_type": "stream",
     "text": [
      "模型已导出\n"
     ]
    }
   ],
   "source": [
    "# 导出模型\n",
    "mes = datetime.now().strftime('%y%m%d_%H')                            # 以时间为导出模型文件名\n",
    "## 该模型信息是否存在\n",
    "if not os.path.isfile('../Model/model_train_%s.pkl'%mes): \n",
    "#     if score>best_score:\n",
    "        with open('../Model/model_train_%s.pkl'%mes, 'wb') as f:\n",
    "            pickle.dump(predict_clr, f)                                           # 导出模型\n",
    "            print(\"模型已导出\")"
   ]
  },
  {
   "cell_type": "markdown",
   "metadata": {},
   "source": [
    "### 测试集变换"
   ]
  },
  {
   "cell_type": "code",
   "execution_count": 26,
   "metadata": {},
   "outputs": [
    {
     "data": {
      "text/html": [
       "<div>\n",
       "<style scoped>\n",
       "    .dataframe tbody tr th:only-of-type {\n",
       "        vertical-align: middle;\n",
       "    }\n",
       "\n",
       "    .dataframe tbody tr th {\n",
       "        vertical-align: top;\n",
       "    }\n",
       "\n",
       "    .dataframe thead th {\n",
       "        text-align: right;\n",
       "    }\n",
       "</style>\n",
       "<table border=\"1\" class=\"dataframe\">\n",
       "  <thead>\n",
       "    <tr style=\"text-align: right;\">\n",
       "      <th></th>\n",
       "      <th>User_id</th>\n",
       "      <th>Merchant_id</th>\n",
       "      <th>Coupon_id</th>\n",
       "      <th>Discount_rate</th>\n",
       "      <th>Distance</th>\n",
       "      <th>Date_received</th>\n",
       "    </tr>\n",
       "  </thead>\n",
       "  <tbody>\n",
       "    <tr>\n",
       "      <th>0</th>\n",
       "      <td>4129537</td>\n",
       "      <td>450</td>\n",
       "      <td>9983</td>\n",
       "      <td>30:5</td>\n",
       "      <td>1.0</td>\n",
       "      <td>20160712</td>\n",
       "    </tr>\n",
       "    <tr>\n",
       "      <th>1</th>\n",
       "      <td>6949378</td>\n",
       "      <td>1300</td>\n",
       "      <td>3429</td>\n",
       "      <td>30:5</td>\n",
       "      <td>NaN</td>\n",
       "      <td>20160706</td>\n",
       "    </tr>\n",
       "    <tr>\n",
       "      <th>2</th>\n",
       "      <td>2166529</td>\n",
       "      <td>7113</td>\n",
       "      <td>6928</td>\n",
       "      <td>200:20</td>\n",
       "      <td>5.0</td>\n",
       "      <td>20160727</td>\n",
       "    </tr>\n",
       "    <tr>\n",
       "      <th>3</th>\n",
       "      <td>2166529</td>\n",
       "      <td>7113</td>\n",
       "      <td>1808</td>\n",
       "      <td>100:10</td>\n",
       "      <td>5.0</td>\n",
       "      <td>20160727</td>\n",
       "    </tr>\n",
       "    <tr>\n",
       "      <th>4</th>\n",
       "      <td>6172162</td>\n",
       "      <td>7605</td>\n",
       "      <td>6500</td>\n",
       "      <td>30:1</td>\n",
       "      <td>2.0</td>\n",
       "      <td>20160708</td>\n",
       "    </tr>\n",
       "  </tbody>\n",
       "</table>\n",
       "</div>"
      ],
      "text/plain": [
       "   User_id  Merchant_id  Coupon_id Discount_rate  Distance  Date_received\n",
       "0  4129537          450       9983          30:5       1.0       20160712\n",
       "1  6949378         1300       3429          30:5       NaN       20160706\n",
       "2  2166529         7113       6928        200:20       5.0       20160727\n",
       "3  2166529         7113       1808        100:10       5.0       20160727\n",
       "4  6172162         7605       6500          30:1       2.0       20160708"
      ]
     },
     "execution_count": 26,
     "metadata": {},
     "output_type": "execute_result"
    }
   ],
   "source": [
    "# 原测试集\n",
    "test_df = pd.read_csv(\"../Data/ccf_offline_stage1_test_revised.csv\")\n",
    "test_df.head()"
   ]
  },
  {
   "cell_type": "code",
   "execution_count": 27,
   "metadata": {},
   "outputs": [
    {
     "data": {
      "text/plain": [
       "(0, 12064, 0)"
      ]
     },
     "execution_count": 27,
     "metadata": {},
     "output_type": "execute_result"
    }
   ],
   "source": [
    "# 统计空值数量\n",
    "test_df['Discount_rate'].isnull().sum(), test_df['Distance'].isnull().sum(), \\\n",
    "test_df['Date_received'].isnull().sum()"
   ]
  },
  {
   "cell_type": "code",
   "execution_count": 28,
   "metadata": {},
   "outputs": [
    {
     "data": {
      "text/plain": [
       "(   User_id  Coupon_id  Date_received\n",
       " 0  4129537       9983       20160712\n",
       " 1  6949378       3429       20160706\n",
       " 2  2166529       6928       20160727\n",
       " 3  2166529       1808       20160727\n",
       " 4  6172162       6500       20160708,   Discount_rate  Distance  Date_received\n",
       " 0          30:5       1.0       20160712\n",
       " 1          30:5       NaN       20160706\n",
       " 2        200:20       5.0       20160727\n",
       " 3        100:10       5.0       20160727\n",
       " 4          30:1       2.0       20160708)"
      ]
     },
     "execution_count": 28,
     "metadata": {},
     "output_type": "execute_result"
    }
   ],
   "source": [
    "# id与数据特征分开\n",
    "test_df_id, test_df_tochange = test_df[[\"User_id\",\"Coupon_id\",\"Date_received\"]], test_df[[\"Discount_rate\",\"Distance\",\"Date_received\"]]\n",
    "test_df_id.head(),test_df_tochange.head()"
   ]
  },
  {
   "cell_type": "code",
   "execution_count": 29,
   "metadata": {},
   "outputs": [
    {
     "data": {
      "text/plain": [
       "113640"
      ]
     },
     "execution_count": 29,
     "metadata": {},
     "output_type": "execute_result"
    }
   ],
   "source": [
    "# 数据集行数\n",
    "test_len = test_df_tochange.shape[0]\n",
    "test_len"
   ]
  },
  {
   "cell_type": "code",
   "execution_count": 30,
   "metadata": {},
   "outputs": [
    {
     "data": {
      "text/html": [
       "<div>\n",
       "<style scoped>\n",
       "    .dataframe tbody tr th:only-of-type {\n",
       "        vertical-align: middle;\n",
       "    }\n",
       "\n",
       "    .dataframe tbody tr th {\n",
       "        vertical-align: top;\n",
       "    }\n",
       "\n",
       "    .dataframe thead th {\n",
       "        text-align: right;\n",
       "    }\n",
       "</style>\n",
       "<table border=\"1\" class=\"dataframe\">\n",
       "  <thead>\n",
       "    <tr style=\"text-align: right;\">\n",
       "      <th></th>\n",
       "      <th>discount</th>\n",
       "      <th>threshold</th>\n",
       "      <th>distance</th>\n",
       "      <th>has_holidays</th>\n",
       "      <th>is_holiday</th>\n",
       "    </tr>\n",
       "  </thead>\n",
       "  <tbody>\n",
       "  </tbody>\n",
       "</table>\n",
       "</div>"
      ],
      "text/plain": [
       "Empty DataFrame\n",
       "Columns: [discount, threshold, distance, has_holidays, is_holiday]\n",
       "Index: []"
      ]
     },
     "execution_count": 30,
     "metadata": {},
     "output_type": "execute_result"
    }
   ],
   "source": [
    "# 转换测试数据集\n",
    "test_df_changed = pd.DataFrame(columns=['discount', 'threshold', 'distance', 'has_holidays', 'is_holiday'])\n",
    "test_df_changed"
   ]
  },
  {
   "cell_type": "markdown",
   "metadata": {},
   "source": [
    "#### Discount_rate变换"
   ]
  },
  {
   "cell_type": "code",
   "execution_count": 31,
   "metadata": {},
   "outputs": [],
   "source": [
    "def process_discount(discountSeries_i):\n",
    "    s = discountSeries_i\n",
    "    if type(s)!=str and np.isnan(s):\n",
    "        return  float(1), 0\n",
    "    if ':'in s:\n",
    "        l = s.split(':')\n",
    "        threshold, minus = int(l[0]), int(l[1])\n",
    "        return (threshold-minus)/threshold, threshold\n",
    "    elif '.'in s:\n",
    "        return float(s), 0"
   ]
  },
  {
   "cell_type": "markdown",
   "metadata": {},
   "source": [
    "- Wall time: 2.69 s"
   ]
  },
  {
   "cell_type": "code",
   "execution_count": 32,
   "metadata": {},
   "outputs": [
    {
     "name": "stdout",
     "output_type": "stream",
     "text": [
      "[0.8333333333333334, 0.8333333333333334, 0.9, 0.9, 0.9666666666666667] [30, 30, 200, 100, 30]\n",
      "Wall time: 2.59 s\n"
     ]
    }
   ],
   "source": [
    "%%time\n",
    "l_discount, l_threshold = [], []\n",
    "for i in range(test_len):\n",
    "    result = process_discount(test_df_tochange['Discount_rate'][i])\n",
    "    l_discount.append(result[0])\n",
    "    l_threshold.append(result[1])\n",
    "print(l_discount[:5], l_threshold[:5])"
   ]
  },
  {
   "cell_type": "code",
   "execution_count": 33,
   "metadata": {},
   "outputs": [
    {
     "data": {
      "text/html": [
       "<div>\n",
       "<style scoped>\n",
       "    .dataframe tbody tr th:only-of-type {\n",
       "        vertical-align: middle;\n",
       "    }\n",
       "\n",
       "    .dataframe tbody tr th {\n",
       "        vertical-align: top;\n",
       "    }\n",
       "\n",
       "    .dataframe thead th {\n",
       "        text-align: right;\n",
       "    }\n",
       "</style>\n",
       "<table border=\"1\" class=\"dataframe\">\n",
       "  <thead>\n",
       "    <tr style=\"text-align: right;\">\n",
       "      <th></th>\n",
       "      <th>discount</th>\n",
       "      <th>threshold</th>\n",
       "      <th>distance</th>\n",
       "      <th>has_holidays</th>\n",
       "      <th>is_holiday</th>\n",
       "    </tr>\n",
       "  </thead>\n",
       "  <tbody>\n",
       "    <tr>\n",
       "      <th>0</th>\n",
       "      <td>0.833333</td>\n",
       "      <td>30</td>\n",
       "      <td>NaN</td>\n",
       "      <td>NaN</td>\n",
       "      <td>NaN</td>\n",
       "    </tr>\n",
       "    <tr>\n",
       "      <th>1</th>\n",
       "      <td>0.833333</td>\n",
       "      <td>30</td>\n",
       "      <td>NaN</td>\n",
       "      <td>NaN</td>\n",
       "      <td>NaN</td>\n",
       "    </tr>\n",
       "    <tr>\n",
       "      <th>2</th>\n",
       "      <td>0.900000</td>\n",
       "      <td>200</td>\n",
       "      <td>NaN</td>\n",
       "      <td>NaN</td>\n",
       "      <td>NaN</td>\n",
       "    </tr>\n",
       "    <tr>\n",
       "      <th>3</th>\n",
       "      <td>0.900000</td>\n",
       "      <td>100</td>\n",
       "      <td>NaN</td>\n",
       "      <td>NaN</td>\n",
       "      <td>NaN</td>\n",
       "    </tr>\n",
       "    <tr>\n",
       "      <th>4</th>\n",
       "      <td>0.966667</td>\n",
       "      <td>30</td>\n",
       "      <td>NaN</td>\n",
       "      <td>NaN</td>\n",
       "      <td>NaN</td>\n",
       "    </tr>\n",
       "  </tbody>\n",
       "</table>\n",
       "</div>"
      ],
      "text/plain": [
       "   discount  threshold distance has_holidays is_holiday\n",
       "0  0.833333         30      NaN          NaN        NaN\n",
       "1  0.833333         30      NaN          NaN        NaN\n",
       "2  0.900000        200      NaN          NaN        NaN\n",
       "3  0.900000        100      NaN          NaN        NaN\n",
       "4  0.966667         30      NaN          NaN        NaN"
      ]
     },
     "execution_count": 33,
     "metadata": {},
     "output_type": "execute_result"
    }
   ],
   "source": [
    "test_df_changed['discount'] = l_discount\n",
    "test_df_changed['threshold'] = l_threshold\n",
    "test_df_changed.head(5)"
   ]
  },
  {
   "cell_type": "markdown",
   "metadata": {},
   "source": [
    "#### Distance变换"
   ]
  },
  {
   "cell_type": "code",
   "execution_count": 34,
   "metadata": {},
   "outputs": [
    {
     "data": {
      "text/html": [
       "<div>\n",
       "<style scoped>\n",
       "    .dataframe tbody tr th:only-of-type {\n",
       "        vertical-align: middle;\n",
       "    }\n",
       "\n",
       "    .dataframe tbody tr th {\n",
       "        vertical-align: top;\n",
       "    }\n",
       "\n",
       "    .dataframe thead th {\n",
       "        text-align: right;\n",
       "    }\n",
       "</style>\n",
       "<table border=\"1\" class=\"dataframe\">\n",
       "  <thead>\n",
       "    <tr style=\"text-align: right;\">\n",
       "      <th></th>\n",
       "      <th>discount</th>\n",
       "      <th>threshold</th>\n",
       "      <th>distance</th>\n",
       "      <th>has_holidays</th>\n",
       "      <th>is_holiday</th>\n",
       "    </tr>\n",
       "  </thead>\n",
       "  <tbody>\n",
       "    <tr>\n",
       "      <th>0</th>\n",
       "      <td>0.833333</td>\n",
       "      <td>30</td>\n",
       "      <td>1.0</td>\n",
       "      <td>NaN</td>\n",
       "      <td>NaN</td>\n",
       "    </tr>\n",
       "    <tr>\n",
       "      <th>1</th>\n",
       "      <td>0.833333</td>\n",
       "      <td>30</td>\n",
       "      <td>NaN</td>\n",
       "      <td>NaN</td>\n",
       "      <td>NaN</td>\n",
       "    </tr>\n",
       "    <tr>\n",
       "      <th>2</th>\n",
       "      <td>0.900000</td>\n",
       "      <td>200</td>\n",
       "      <td>5.0</td>\n",
       "      <td>NaN</td>\n",
       "      <td>NaN</td>\n",
       "    </tr>\n",
       "    <tr>\n",
       "      <th>3</th>\n",
       "      <td>0.900000</td>\n",
       "      <td>100</td>\n",
       "      <td>5.0</td>\n",
       "      <td>NaN</td>\n",
       "      <td>NaN</td>\n",
       "    </tr>\n",
       "    <tr>\n",
       "      <th>4</th>\n",
       "      <td>0.966667</td>\n",
       "      <td>30</td>\n",
       "      <td>2.0</td>\n",
       "      <td>NaN</td>\n",
       "      <td>NaN</td>\n",
       "    </tr>\n",
       "  </tbody>\n",
       "</table>\n",
       "</div>"
      ],
      "text/plain": [
       "   discount  threshold  distance has_holidays is_holiday\n",
       "0  0.833333         30       1.0          NaN        NaN\n",
       "1  0.833333         30       NaN          NaN        NaN\n",
       "2  0.900000        200       5.0          NaN        NaN\n",
       "3  0.900000        100       5.0          NaN        NaN\n",
       "4  0.966667         30       2.0          NaN        NaN"
      ]
     },
     "execution_count": 34,
     "metadata": {},
     "output_type": "execute_result"
    }
   ],
   "source": [
    "test_df_changed['distance'] = test_df_tochange['Distance']\n",
    "test_df_changed.head()"
   ]
  },
  {
   "cell_type": "code",
   "execution_count": 35,
   "metadata": {},
   "outputs": [
    {
     "name": "stdout",
     "output_type": "stream",
     "text": [
      "12064\n"
     ]
    }
   ],
   "source": [
    "# distance空值处理\n",
    "## 统计空值\n",
    "org_null = test_df['Distance'].isnull().sum()\n",
    "print(org_null)"
   ]
  },
  {
   "cell_type": "markdown",
   "metadata": {},
   "source": [
    "#### Date_received变换"
   ]
  },
  {
   "cell_type": "code",
   "execution_count": 36,
   "metadata": {},
   "outputs": [
    {
     "name": "stdout",
     "output_type": "stream",
     "text": [
      "优惠卷收到日期从 20160701 到 20160731\n"
     ]
    }
   ],
   "source": [
    "df_dr = test_df_tochange['Date_received'].unique()\n",
    "date_received = sorted(df_dr)\n",
    "\n",
    "print('优惠卷收到日期从',date_received[0],'到',date_received[-1])"
   ]
  },
  {
   "cell_type": "code",
   "execution_count": 37,
   "metadata": {},
   "outputs": [],
   "source": [
    "def process_date(dateSeries_i):\n",
    "    s = dateSeries_i\n",
    "    if np.isnan(s):\n",
    "        return  False, False\n",
    "    else:\n",
    "        d = datetime.strptime(str(int(s)), '%Y%m%d')                                     # date\n",
    "        d_e = d + timedelta(days = 15)\n",
    "        return get_holidays(d, d_e, include_weekends=False)!=[], is_holiday(d)"
   ]
  },
  {
   "cell_type": "markdown",
   "metadata": {},
   "source": [
    "- Wall time: 1min 7s"
   ]
  },
  {
   "cell_type": "code",
   "execution_count": 38,
   "metadata": {},
   "outputs": [
    {
     "name": "stdout",
     "output_type": "stream",
     "text": [
      "[False, False, False, False, False] [False, False, False, False, False]\n",
      "Wall time: 19.2 s\n"
     ]
    }
   ],
   "source": [
    "%%time\n",
    "# 整理Date_received\n",
    "l_has, l_is = [], []\n",
    "for i in range(test_len):\n",
    "    result = process_date(test_df_tochange['Date_received'][i])\n",
    "    l_has.append(result[0])\n",
    "    l_is.append(result[1])\n",
    "print(l_has[:5], l_is[:5])"
   ]
  },
  {
   "cell_type": "code",
   "execution_count": 39,
   "metadata": {},
   "outputs": [
    {
     "data": {
      "text/html": [
       "<div>\n",
       "<style scoped>\n",
       "    .dataframe tbody tr th:only-of-type {\n",
       "        vertical-align: middle;\n",
       "    }\n",
       "\n",
       "    .dataframe tbody tr th {\n",
       "        vertical-align: top;\n",
       "    }\n",
       "\n",
       "    .dataframe thead th {\n",
       "        text-align: right;\n",
       "    }\n",
       "</style>\n",
       "<table border=\"1\" class=\"dataframe\">\n",
       "  <thead>\n",
       "    <tr style=\"text-align: right;\">\n",
       "      <th></th>\n",
       "      <th>discount</th>\n",
       "      <th>threshold</th>\n",
       "      <th>distance</th>\n",
       "      <th>has_holidays</th>\n",
       "      <th>is_holiday</th>\n",
       "    </tr>\n",
       "  </thead>\n",
       "  <tbody>\n",
       "    <tr>\n",
       "      <th>0</th>\n",
       "      <td>0.833333</td>\n",
       "      <td>30</td>\n",
       "      <td>1.0</td>\n",
       "      <td>False</td>\n",
       "      <td>False</td>\n",
       "    </tr>\n",
       "    <tr>\n",
       "      <th>1</th>\n",
       "      <td>0.833333</td>\n",
       "      <td>30</td>\n",
       "      <td>NaN</td>\n",
       "      <td>False</td>\n",
       "      <td>False</td>\n",
       "    </tr>\n",
       "    <tr>\n",
       "      <th>2</th>\n",
       "      <td>0.900000</td>\n",
       "      <td>200</td>\n",
       "      <td>5.0</td>\n",
       "      <td>False</td>\n",
       "      <td>False</td>\n",
       "    </tr>\n",
       "    <tr>\n",
       "      <th>3</th>\n",
       "      <td>0.900000</td>\n",
       "      <td>100</td>\n",
       "      <td>5.0</td>\n",
       "      <td>False</td>\n",
       "      <td>False</td>\n",
       "    </tr>\n",
       "    <tr>\n",
       "      <th>4</th>\n",
       "      <td>0.966667</td>\n",
       "      <td>30</td>\n",
       "      <td>2.0</td>\n",
       "      <td>False</td>\n",
       "      <td>False</td>\n",
       "    </tr>\n",
       "  </tbody>\n",
       "</table>\n",
       "</div>"
      ],
      "text/plain": [
       "   discount  threshold  distance  has_holidays  is_holiday\n",
       "0  0.833333         30       1.0         False       False\n",
       "1  0.833333         30       NaN         False       False\n",
       "2  0.900000        200       5.0         False       False\n",
       "3  0.900000        100       5.0         False       False\n",
       "4  0.966667         30       2.0         False       False"
      ]
     },
     "execution_count": 39,
     "metadata": {},
     "output_type": "execute_result"
    }
   ],
   "source": [
    "test_df_changed['has_holidays'] = l_has\n",
    "test_df_changed['is_holiday'] = l_is\n",
    "test_df_changed.head()"
   ]
  },
  {
   "cell_type": "markdown",
   "metadata": {},
   "source": [
    "#### distance空值处理"
   ]
  },
  {
   "cell_type": "code",
   "execution_count": 40,
   "metadata": {},
   "outputs": [
    {
     "name": "stdout",
     "output_type": "stream",
     "text": [
      "101576\n"
     ]
    },
    {
     "data": {
      "text/html": [
       "<div>\n",
       "<style scoped>\n",
       "    .dataframe tbody tr th:only-of-type {\n",
       "        vertical-align: middle;\n",
       "    }\n",
       "\n",
       "    .dataframe tbody tr th {\n",
       "        vertical-align: top;\n",
       "    }\n",
       "\n",
       "    .dataframe thead th {\n",
       "        text-align: right;\n",
       "    }\n",
       "</style>\n",
       "<table border=\"1\" class=\"dataframe\">\n",
       "  <thead>\n",
       "    <tr style=\"text-align: right;\">\n",
       "      <th></th>\n",
       "      <th>discount</th>\n",
       "      <th>threshold</th>\n",
       "      <th>distance</th>\n",
       "      <th>has_holidays</th>\n",
       "      <th>is_holiday</th>\n",
       "    </tr>\n",
       "  </thead>\n",
       "  <tbody>\n",
       "    <tr>\n",
       "      <th>0</th>\n",
       "      <td>0.833333</td>\n",
       "      <td>30</td>\n",
       "      <td>1.0</td>\n",
       "      <td>False</td>\n",
       "      <td>False</td>\n",
       "    </tr>\n",
       "    <tr>\n",
       "      <th>2</th>\n",
       "      <td>0.900000</td>\n",
       "      <td>200</td>\n",
       "      <td>5.0</td>\n",
       "      <td>False</td>\n",
       "      <td>False</td>\n",
       "    </tr>\n",
       "    <tr>\n",
       "      <th>3</th>\n",
       "      <td>0.900000</td>\n",
       "      <td>100</td>\n",
       "      <td>5.0</td>\n",
       "      <td>False</td>\n",
       "      <td>False</td>\n",
       "    </tr>\n",
       "    <tr>\n",
       "      <th>4</th>\n",
       "      <td>0.966667</td>\n",
       "      <td>30</td>\n",
       "      <td>2.0</td>\n",
       "      <td>False</td>\n",
       "      <td>False</td>\n",
       "    </tr>\n",
       "    <tr>\n",
       "      <th>5</th>\n",
       "      <td>0.833333</td>\n",
       "      <td>30</td>\n",
       "      <td>0.0</td>\n",
       "      <td>False</td>\n",
       "      <td>False</td>\n",
       "    </tr>\n",
       "  </tbody>\n",
       "</table>\n",
       "</div>"
      ],
      "text/plain": [
       "   discount  threshold  distance  has_holidays  is_holiday\n",
       "0  0.833333         30       1.0         False       False\n",
       "2  0.900000        200       5.0         False       False\n",
       "3  0.900000        100       5.0         False       False\n",
       "4  0.966667         30       2.0         False       False\n",
       "5  0.833333         30       0.0         False       False"
      ]
     },
     "execution_count": 40,
     "metadata": {},
     "output_type": "execute_result"
    }
   ],
   "source": [
    "# 不为空的子集，作为训练集\n",
    "not_null_df = test_df_changed[test_df_changed['discount'].notnull() & test_df_changed['threshold'].notnull() \\\n",
    "                          & test_df_changed['distance'].notnull() & test_df_changed['has_holidays'].notnull()                \\\n",
    "                          & test_df_changed['is_holiday'].notnull()]\n",
    "\n",
    "print(len(not_null_df))\n",
    "not_null_df.head()"
   ]
  },
  {
   "cell_type": "code",
   "execution_count": 41,
   "metadata": {},
   "outputs": [
    {
     "data": {
      "text/html": [
       "<div>\n",
       "<style scoped>\n",
       "    .dataframe tbody tr th:only-of-type {\n",
       "        vertical-align: middle;\n",
       "    }\n",
       "\n",
       "    .dataframe tbody tr th {\n",
       "        vertical-align: top;\n",
       "    }\n",
       "\n",
       "    .dataframe thead th {\n",
       "        text-align: right;\n",
       "    }\n",
       "</style>\n",
       "<table border=\"1\" class=\"dataframe\">\n",
       "  <thead>\n",
       "    <tr style=\"text-align: right;\">\n",
       "      <th></th>\n",
       "      <th>discount</th>\n",
       "      <th>threshold</th>\n",
       "      <th>distance</th>\n",
       "      <th>has_holidays</th>\n",
       "      <th>is_holiday</th>\n",
       "    </tr>\n",
       "  </thead>\n",
       "  <tbody>\n",
       "    <tr>\n",
       "      <th>1</th>\n",
       "      <td>0.833333</td>\n",
       "      <td>30</td>\n",
       "      <td>NaN</td>\n",
       "      <td>False</td>\n",
       "      <td>False</td>\n",
       "    </tr>\n",
       "    <tr>\n",
       "      <th>14</th>\n",
       "      <td>0.833333</td>\n",
       "      <td>30</td>\n",
       "      <td>NaN</td>\n",
       "      <td>False</td>\n",
       "      <td>False</td>\n",
       "    </tr>\n",
       "    <tr>\n",
       "      <th>34</th>\n",
       "      <td>0.833333</td>\n",
       "      <td>30</td>\n",
       "      <td>NaN</td>\n",
       "      <td>False</td>\n",
       "      <td>True</td>\n",
       "    </tr>\n",
       "    <tr>\n",
       "      <th>35</th>\n",
       "      <td>0.833333</td>\n",
       "      <td>30</td>\n",
       "      <td>NaN</td>\n",
       "      <td>False</td>\n",
       "      <td>False</td>\n",
       "    </tr>\n",
       "    <tr>\n",
       "      <th>36</th>\n",
       "      <td>0.750000</td>\n",
       "      <td>20</td>\n",
       "      <td>NaN</td>\n",
       "      <td>False</td>\n",
       "      <td>False</td>\n",
       "    </tr>\n",
       "  </tbody>\n",
       "</table>\n",
       "</div>"
      ],
      "text/plain": [
       "    discount  threshold  distance  has_holidays  is_holiday\n",
       "1   0.833333         30       NaN         False       False\n",
       "14  0.833333         30       NaN         False       False\n",
       "34  0.833333         30       NaN         False        True\n",
       "35  0.833333         30       NaN         False       False\n",
       "36  0.750000         20       NaN         False       False"
      ]
     },
     "execution_count": 41,
     "metadata": {},
     "output_type": "execute_result"
    }
   ],
   "source": [
    "# distance为空作为测试集\n",
    "test_distance_df = test_df_changed[test_df_changed['discount'].notnull() & test_df_changed['threshold'].notnull() \\\n",
    "                          & test_df_changed['is_holiday'].notnull() & test_df_changed['has_holidays'].notnull()                \\\n",
    "                          & test_df_changed['distance'].isnull()]\n",
    "test_distance_df.head()"
   ]
  },
  {
   "cell_type": "code",
   "execution_count": 42,
   "metadata": {},
   "outputs": [
    {
     "name": "stdout",
     "output_type": "stream",
     "text": [
      "        discount  threshold  has_holidays  is_holiday\n",
      "35105   0.966667         30         False       False\n",
      "102351  0.950000         20         False        True\n",
      "50028   0.833333         30         False       False\n",
      "21425   0.833333         30         False       False\n",
      "64865   0.950000         20         False        True         distance\n",
      "35105        0.0\n",
      "102351       0.0\n",
      "50028       10.0\n",
      "21425        0.0\n",
      "64865        2.0\n",
      "0.4328750041019919\n"
     ]
    }
   ],
   "source": [
    "# 划分X,Y\n",
    "X, Y = not_null_df[[\"discount\",\"threshold\",\"has_holidays\",\"is_holiday\"]], not_null_df[['distance']]\n",
    "\n",
    "# 分割训练集\n",
    "X_train, X_test, Y_train, Y_test = train_test_split(X, Y, test_size = 0.3, random_state = 0)\n",
    "print(X_train.head(),Y_train.head())\n",
    "\n",
    "# 训练\n",
    "predict_clr = DecisionTreeClassifier(criterion = 'entropy', random_state = 0)\n",
    "predict_clr.fit(X_train, Y_train)\n",
    "\n",
    "\n",
    "# 测试效果\n",
    "score = predict_clr.score(X_test, Y_test)   \n",
    "best_score = 0.5524041438573432\n",
    "print(score)"
   ]
  },
  {
   "cell_type": "code",
   "execution_count": 43,
   "metadata": {},
   "outputs": [],
   "source": [
    "# 导出模型\n",
    "mes = datetime.now().strftime('%y%m%d_%H')                            # 以时间为导出模型文件名\n",
    "## 该模型信息是否存在\n",
    "if not os.path.isfile('../Model/model_test_dis_%s.pkl'%mes): \n",
    "    if score>best_score:\n",
    "        with open('../Model/model_test_dis_%s.pkl'%mes, 'wb') as f:\n",
    "            pickle.dump(predict_clr, f)                                           # 导出模型\n",
    "            print(\"模型已导出\")"
   ]
  },
  {
   "cell_type": "code",
   "execution_count": 44,
   "metadata": {},
   "outputs": [
    {
     "data": {
      "text/html": [
       "<div>\n",
       "<style scoped>\n",
       "    .dataframe tbody tr th:only-of-type {\n",
       "        vertical-align: middle;\n",
       "    }\n",
       "\n",
       "    .dataframe tbody tr th {\n",
       "        vertical-align: top;\n",
       "    }\n",
       "\n",
       "    .dataframe thead th {\n",
       "        text-align: right;\n",
       "    }\n",
       "</style>\n",
       "<table border=\"1\" class=\"dataframe\">\n",
       "  <thead>\n",
       "    <tr style=\"text-align: right;\">\n",
       "      <th></th>\n",
       "      <th>discount</th>\n",
       "      <th>threshold</th>\n",
       "      <th>distance</th>\n",
       "      <th>has_holidays</th>\n",
       "      <th>is_holiday</th>\n",
       "    </tr>\n",
       "  </thead>\n",
       "  <tbody>\n",
       "    <tr>\n",
       "      <th>0</th>\n",
       "      <td>0.833333</td>\n",
       "      <td>30</td>\n",
       "      <td>1.0</td>\n",
       "      <td>False</td>\n",
       "      <td>False</td>\n",
       "    </tr>\n",
       "    <tr>\n",
       "      <th>1</th>\n",
       "      <td>0.833333</td>\n",
       "      <td>30</td>\n",
       "      <td>0.0</td>\n",
       "      <td>False</td>\n",
       "      <td>False</td>\n",
       "    </tr>\n",
       "    <tr>\n",
       "      <th>2</th>\n",
       "      <td>0.900000</td>\n",
       "      <td>200</td>\n",
       "      <td>5.0</td>\n",
       "      <td>False</td>\n",
       "      <td>False</td>\n",
       "    </tr>\n",
       "    <tr>\n",
       "      <th>3</th>\n",
       "      <td>0.900000</td>\n",
       "      <td>100</td>\n",
       "      <td>5.0</td>\n",
       "      <td>False</td>\n",
       "      <td>False</td>\n",
       "    </tr>\n",
       "    <tr>\n",
       "      <th>4</th>\n",
       "      <td>0.966667</td>\n",
       "      <td>30</td>\n",
       "      <td>2.0</td>\n",
       "      <td>False</td>\n",
       "      <td>False</td>\n",
       "    </tr>\n",
       "  </tbody>\n",
       "</table>\n",
       "</div>"
      ],
      "text/plain": [
       "   discount  threshold  distance  has_holidays  is_holiday\n",
       "0  0.833333         30       1.0         False       False\n",
       "1  0.833333         30       0.0         False       False\n",
       "2  0.900000        200       5.0         False       False\n",
       "3  0.900000        100       5.0         False       False\n",
       "4  0.966667         30       2.0         False       False"
      ]
     },
     "execution_count": 44,
     "metadata": {},
     "output_type": "execute_result"
    }
   ],
   "source": [
    "# 划分X\n",
    "X_feature = test_distance_df[[\"discount\",\"threshold\",\"has_holidays\",\"is_holiday\"]]\n",
    "\n",
    "# 预测distance\n",
    "Y_pred_dis = list(predict_clr.predict(X_feature))\n",
    "\n",
    "# 更改数值\n",
    "test_df_changed.loc[list(test_distance_df.index), 'distance']  = Y_pred_dis\n",
    "\n",
    "test_df_changed.head()"
   ]
  },
  {
   "cell_type": "code",
   "execution_count": 45,
   "metadata": {},
   "outputs": [
    {
     "data": {
      "text/plain": [
       "(0, 0, 0, 0, 0)"
      ]
     },
     "execution_count": 45,
     "metadata": {},
     "output_type": "execute_result"
    }
   ],
   "source": [
    "# 统计空值数量\n",
    "test_df_changed['discount'].isnull().sum(), test_df_changed['threshold'].isnull().sum(), \\\n",
    "test_df_changed['distance'].isnull().sum(), test_df_changed['has_holidays'].isnull().sum(),\\\n",
    "test_df_changed['is_holiday'].isnull().sum()"
   ]
  },
  {
   "cell_type": "code",
   "execution_count": 46,
   "metadata": {},
   "outputs": [],
   "source": [
    "test_df_changed.to_csv('./test_df_changed.csv', sep=',', index=False)"
   ]
  },
  {
   "cell_type": "markdown",
   "metadata": {},
   "source": [
    "### 模型结果"
   ]
  },
  {
   "cell_type": "code",
   "execution_count": 47,
   "metadata": {},
   "outputs": [
    {
     "name": "stdout",
     "output_type": "stream",
     "text": [
      "   discount  threshold  distance  has_holidays  is_holiday\n",
      "0  0.833333         30       1.0         False       False\n",
      "1  0.833333         30       0.0         False       False\n",
      "2  0.900000        200       5.0         False       False\n",
      "3  0.900000        100       5.0         False       False\n",
      "4  0.966667         30       2.0         False       False\n",
      "[0.06469394 0.13179513 0.01764706 0.03690037 0.05782313 0.13179513\n",
      " 0.18283469 0.06469394 0.02228826 0.08721735]\n"
     ]
    }
   ],
   "source": [
    "# id与数据特征分开\n",
    "# test_df_id, test_df_tochange\n",
    "\n",
    "# 预测\n",
    "test_df_changed = pd.read_csv('./test_df_changed.csv')\n",
    "test_df_changed = test_df_changed[[\"discount\",\"threshold\",\"distance\",\"has_holidays\",\"is_holiday\"]]\n",
    "print(test_df_changed.head())\n",
    "with open('../Model/model_train_190521_15.pkl', 'rb') as f:\n",
    "    model = pickle.load(f)\n",
    "# result = model.predict(test_df_changed)\n",
    "result = model.predict_proba(test_df_changed)\n",
    "print(result[:10][:,1])\n",
    "\n",
    "# 获得概率\n",
    "pro = result[:,1]"
   ]
  },
  {
   "cell_type": "code",
   "execution_count": 48,
   "metadata": {},
   "outputs": [
    {
     "name": "stderr",
     "output_type": "stream",
     "text": [
      "D:\\setup_space_all\\python3.6.6\\lib\\site-packages\\ipykernel_launcher.py:3: SettingWithCopyWarning: \n",
      "A value is trying to be set on a copy of a slice from a DataFrame.\n",
      "Try using .loc[row_indexer,col_indexer] = value instead\n",
      "\n",
      "See the caveats in the documentation: http://pandas.pydata.org/pandas-docs/stable/indexing.html#indexing-view-versus-copy\n",
      "  This is separate from the ipykernel package so we can avoid doing imports until\n"
     ]
    },
    {
     "data": {
      "text/html": [
       "<div>\n",
       "<style scoped>\n",
       "    .dataframe tbody tr th:only-of-type {\n",
       "        vertical-align: middle;\n",
       "    }\n",
       "\n",
       "    .dataframe tbody tr th {\n",
       "        vertical-align: top;\n",
       "    }\n",
       "\n",
       "    .dataframe thead th {\n",
       "        text-align: right;\n",
       "    }\n",
       "</style>\n",
       "<table border=\"1\" class=\"dataframe\">\n",
       "  <thead>\n",
       "    <tr style=\"text-align: right;\">\n",
       "      <th></th>\n",
       "      <th>User_id</th>\n",
       "      <th>Coupon_id</th>\n",
       "      <th>Date_received</th>\n",
       "      <th>Probability</th>\n",
       "    </tr>\n",
       "  </thead>\n",
       "  <tbody>\n",
       "    <tr>\n",
       "      <th>0</th>\n",
       "      <td>4129537</td>\n",
       "      <td>9983</td>\n",
       "      <td>20160712</td>\n",
       "      <td>0.064694</td>\n",
       "    </tr>\n",
       "    <tr>\n",
       "      <th>1</th>\n",
       "      <td>6949378</td>\n",
       "      <td>3429</td>\n",
       "      <td>20160706</td>\n",
       "      <td>0.131795</td>\n",
       "    </tr>\n",
       "    <tr>\n",
       "      <th>2</th>\n",
       "      <td>2166529</td>\n",
       "      <td>6928</td>\n",
       "      <td>20160727</td>\n",
       "      <td>0.017647</td>\n",
       "    </tr>\n",
       "    <tr>\n",
       "      <th>3</th>\n",
       "      <td>2166529</td>\n",
       "      <td>1808</td>\n",
       "      <td>20160727</td>\n",
       "      <td>0.036900</td>\n",
       "    </tr>\n",
       "    <tr>\n",
       "      <th>4</th>\n",
       "      <td>6172162</td>\n",
       "      <td>6500</td>\n",
       "      <td>20160708</td>\n",
       "      <td>0.057823</td>\n",
       "    </tr>\n",
       "  </tbody>\n",
       "</table>\n",
       "</div>"
      ],
      "text/plain": [
       "   User_id  Coupon_id  Date_received  Probability\n",
       "0  4129537       9983       20160712     0.064694\n",
       "1  6949378       3429       20160706     0.131795\n",
       "2  2166529       6928       20160727     0.017647\n",
       "3  2166529       1808       20160727     0.036900\n",
       "4  6172162       6500       20160708     0.057823"
      ]
     },
     "execution_count": 48,
     "metadata": {},
     "output_type": "execute_result"
    }
   ],
   "source": [
    "# 组合\n",
    "result_df = test_df_id\n",
    "result_df['Probability'] = pro\n",
    "result_df.head()"
   ]
  },
  {
   "cell_type": "code",
   "execution_count": 50,
   "metadata": {},
   "outputs": [],
   "source": [
    "result_mes = datetime.now().strftime('%y%m%d_%H')\n",
    "result_df.to_csv(\"../AUC/result_%s.csv\"%result_mes,sep=',',index=False,header=None)"
   ]
  },
  {
   "cell_type": "markdown",
   "metadata": {},
   "source": [
    "### AUC"
   ]
  },
  {
   "cell_type": "code",
   "execution_count": 14,
   "metadata": {},
   "outputs": [
    {
     "data": {
      "text/html": [
       "<div>\n",
       "<style scoped>\n",
       "    .dataframe tbody tr th:only-of-type {\n",
       "        vertical-align: middle;\n",
       "    }\n",
       "\n",
       "    .dataframe tbody tr th {\n",
       "        vertical-align: top;\n",
       "    }\n",
       "\n",
       "    .dataframe thead th {\n",
       "        text-align: right;\n",
       "    }\n",
       "</style>\n",
       "<table border=\"1\" class=\"dataframe\">\n",
       "  <thead>\n",
       "    <tr style=\"text-align: right;\">\n",
       "      <th></th>\n",
       "      <th>User_id</th>\n",
       "      <th>Coupon_id</th>\n",
       "      <th>Date_received</th>\n",
       "      <th>Probability</th>\n",
       "    </tr>\n",
       "  </thead>\n",
       "  <tbody>\n",
       "    <tr>\n",
       "      <th>0</th>\n",
       "      <td>4129537</td>\n",
       "      <td>9983</td>\n",
       "      <td>20160712</td>\n",
       "      <td>0.064694</td>\n",
       "    </tr>\n",
       "    <tr>\n",
       "      <th>1</th>\n",
       "      <td>6949378</td>\n",
       "      <td>3429</td>\n",
       "      <td>20160706</td>\n",
       "      <td>0.131795</td>\n",
       "    </tr>\n",
       "    <tr>\n",
       "      <th>2</th>\n",
       "      <td>2166529</td>\n",
       "      <td>6928</td>\n",
       "      <td>20160727</td>\n",
       "      <td>0.017647</td>\n",
       "    </tr>\n",
       "    <tr>\n",
       "      <th>3</th>\n",
       "      <td>2166529</td>\n",
       "      <td>1808</td>\n",
       "      <td>20160727</td>\n",
       "      <td>0.036900</td>\n",
       "    </tr>\n",
       "    <tr>\n",
       "      <th>4</th>\n",
       "      <td>6172162</td>\n",
       "      <td>6500</td>\n",
       "      <td>20160708</td>\n",
       "      <td>0.057823</td>\n",
       "    </tr>\n",
       "  </tbody>\n",
       "</table>\n",
       "</div>"
      ],
      "text/plain": [
       "   User_id  Coupon_id  Date_received  Probability\n",
       "0  4129537       9983       20160712     0.064694\n",
       "1  6949378       3429       20160706     0.131795\n",
       "2  2166529       6928       20160727     0.017647\n",
       "3  2166529       1808       20160727     0.036900\n",
       "4  6172162       6500       20160708     0.057823"
      ]
     },
     "execution_count": 14,
     "metadata": {},
     "output_type": "execute_result"
    }
   ],
   "source": [
    "# [\"User_id\",\"Coupon_id\",\"Date_received\",\"Probability\"]\n",
    "result_df = pd.read_csv(\"../AUC/result_190521_16.csv\",sep=',',header=None)\n",
    "result_df.columns = [\"User_id\",\"Coupon_id\",\"Date_received\",\"Probability\"]\n",
    "result_df.head()"
   ]
  },
  {
   "cell_type": "code",
   "execution_count": null,
   "metadata": {},
   "outputs": [],
   "source": [
    "# avgAUC calculation\n",
    "vg = result_df.groupby(['Coupon_id'])\n",
    "aucs = []\n",
    "for i in vg:\n",
    "    tmpdf = i[1] \n",
    "    if len(tmpdf['label'].unique()) != 2:\n",
    "        continue\n",
    "    fpr, tpr, thresholds = roc_curve(tmpdf['label'], tmpdf['pred_prob'], pos_label=1)\n",
    "    aucs.append(auc(fpr, tpr))\n",
    "print(np.average(aucs))"
   ]
  }
 ],
 "metadata": {
  "kernelspec": {
   "display_name": "Python 3",
   "language": "python",
   "name": "python3"
  },
  "language_info": {
   "codemirror_mode": {
    "name": "ipython",
    "version": 3
   },
   "file_extension": ".py",
   "mimetype": "text/x-python",
   "name": "python",
   "nbconvert_exporter": "python",
   "pygments_lexer": "ipython3",
   "version": "3.6.6"
  },
  "toc": {
   "base_numbering": 1,
   "nav_menu": {},
   "number_sections": true,
   "sideBar": true,
   "skip_h1_title": false,
   "title_cell": "Table of Contents",
   "title_sidebar": "Contents",
   "toc_cell": false,
   "toc_position": {
    "height": "calc(100% - 180px)",
    "left": "10px",
    "top": "150px",
    "width": "312px"
   },
   "toc_section_display": true,
   "toc_window_display": true
  }
 },
 "nbformat": 4,
 "nbformat_minor": 2
}
