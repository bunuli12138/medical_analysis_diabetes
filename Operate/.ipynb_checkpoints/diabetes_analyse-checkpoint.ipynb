{
 "cells": [
  {
   "cell_type": "markdown",
   "metadata": {},
   "source": [
    "## 数据集预览\n",
    "- 'f_train_20180204.csv'\n",
    "- 'f_test_b_20180305.csv'\n",
    "- 'f_test_a_20180204.csv'\n",
    "- 'f_answer_a_20180306.csv'"
   ]
  },
  {
   "cell_type": "markdown",
   "metadata": {},
   "source": [
    "- 输入：83个特征\n",
    "- 输出： 对每个人是否患妊娠糖尿病的预测结果，以整数形式表示类别，取值为0或者1"
   ]
  },
  {
   "cell_type": "code",
   "execution_count": 15,
   "metadata": {},
   "outputs": [],
   "source": [
    "import pandas as pd\n",
    "import numpy as np\n",
    "from sklearn.tree import DecisionTreeClassifier\n",
    "from collections import Counter"
   ]
  },
  {
   "cell_type": "code",
   "execution_count": 21,
   "metadata": {},
   "outputs": [],
   "source": [
    "f_train = pd.read_csv('../Data/f_train_20180204.csv')                  # 85列，首列id，末列标签，83个特征"
   ]
  },
  {
   "cell_type": "code",
   "execution_count": 20,
   "metadata": {},
   "outputs": [
    {
     "data": {
      "text/plain": [
       "(   SNP1  SNP2  SNP3  SNP4  SNP5  SNP6  SNP7  SNP8  SNP9  SNP10  ...    SNP47  \\\n",
       " 0     2     1   NaN   2.0   3.0   1.0   3.0   3.0   2.0    2.0  ...      2.0   \n",
       " 1     3     2   3.0   2.0   2.0   2.0   3.0   3.0   2.0    2.0  ...      2.0   \n",
       " 2     1     1   3.0   1.0   3.0   2.0   3.0   3.0   2.0    2.0  ...      2.0   \n",
       " 3     1     3   3.0   1.0   NaN   1.0   3.0   1.0   1.0    1.0  ...      2.0   \n",
       " 4     1     2   3.0   2.0   2.0   1.0   2.0   2.0   1.0    2.0  ...      1.0   \n",
       " \n",
       "    SNP48  SNP49  SNP50  SNP51  SNP52  SNP53  SNP54  SNP55  ACEID  \n",
       " 0    2.0    2.0    1.0    2.0    1.0    1.0    3.0    3.0    1.0  \n",
       " 1    1.0    3.0    1.0    1.0    2.0    1.0    2.0    2.0    3.0  \n",
       " 2    3.0    3.0    2.0    2.0    1.0    1.0    1.0    1.0    2.0  \n",
       " 3    1.0    3.0    1.0    2.0    1.0    1.0    2.0    2.0    3.0  \n",
       " 4    3.0    1.0    2.0    2.0    1.0    1.0    2.0    2.0    3.0  \n",
       " \n",
       " [5 rows x 83 columns],    label\n",
       " 0      1\n",
       " 1      0\n",
       " 2      1\n",
       " 3      1\n",
       " 4      0)"
      ]
     },
     "execution_count": 20,
     "metadata": {},
     "output_type": "execute_result"
    }
   ],
   "source": [
    "X_train_df = f_train.iloc[:, 1:84]\n",
    "Y_train_df = f_train.iloc[:, 84:]\n",
    "X_train_df.head(), Y_train_df.head()"
   ]
  },
  {
   "cell_type": "markdown",
   "metadata": {},
   "source": [
    "## 数据集分析"
   ]
  },
  {
   "cell_type": "markdown",
   "metadata": {},
   "source": [
    "### 空值统计"
   ]
  },
  {
   "cell_type": "code",
   "execution_count": 35,
   "metadata": {},
   "outputs": [
    {
     "data": {
      "text/plain": [
       "1000"
      ]
     },
     "execution_count": 35,
     "metadata": {},
     "output_type": "execute_result"
    }
   ],
   "source": [
    "train_lows = X_train_df.shape[0]\n",
    "train_lows"
   ]
  },
  {
   "cell_type": "code",
   "execution_count": 63,
   "metadata": {},
   "outputs": [
    {
     "data": {
      "text/plain": [
       "[('SNP1', 0),\n",
       " ('SNP2', 0),\n",
       " ('SNP7', 3),\n",
       " ('SNP8', 5),\n",
       " ('SNP9', 5),\n",
       " ('SNP10', 5),\n",
       " ('SNP25', 8),\n",
       " ('VAR00007', 10),\n",
       " ('SNP4', 11),\n",
       " ('SNP6', 13),\n",
       " ('SNP27', 13),\n",
       " ('SNP52', 13),\n",
       " ('SNP12', 15),\n",
       " ('SNP28', 15),\n",
       " ('SNP29', 15),\n",
       " ('SNP11', 17),\n",
       " ('SNP26', 17),\n",
       " ('SNP49', 17),\n",
       " ('SNP50', 19),\n",
       " ('SNP51', 19),\n",
       " ('SNP13', 22),\n",
       " ('SNP48', 22),\n",
       " ('SNP16', 23),\n",
       " ('SNP33', 23),\n",
       " ('年龄', 25),\n",
       " ('SNP17', 26),\n",
       " ('SNP15', 30),\n",
       " ('SNP18', 30),\n",
       " ('SNP36', 30),\n",
       " ('SNP35', 31),\n",
       " ('SNP43', 31),\n",
       " ('SNP38', 32),\n",
       " ('SNP45', 32),\n",
       " ('SNP42', 38),\n",
       " ('SNP19', 41),\n",
       " ('CHO', 41),\n",
       " ('TG', 41),\n",
       " ('SNP44', 43),\n",
       " ('LDLC', 44),\n",
       " ('SNP41', 44),\n",
       " ('SNP53', 44),\n",
       " ('HDLC', 45),\n",
       " ('SNP37', 45),\n",
       " ('SNP40', 45),\n",
       " ('SNP39', 46),\n",
       " ('SNP14', 47),\n",
       " ('SNP47', 47),\n",
       " ('SNP31', 48),\n",
       " ('SNP32', 50),\n",
       " ('SNP34', 51),\n",
       " ('SNP3', 52),\n",
       " ('SNP30', 52),\n",
       " ('SNP5', 65),\n",
       " ('ApoA1', 66),\n",
       " ('ApoB', 66),\n",
       " ('Lpa', 66),\n",
       " ('SNP24', 67),\n",
       " ('SNP46', 71),\n",
       " ('hsCRP', 75),\n",
       " ('SNP20', 90),\n",
       " ('wbc', 113),\n",
       " ('ALT', 146),\n",
       " ('Cr', 155),\n",
       " ('BUN', 156),\n",
       " ('孕次', 198),\n",
       " ('产次', 198),\n",
       " ('身高', 203),\n",
       " ('孕前体重', 203),\n",
       " ('BMI分类', 204),\n",
       " ('孕前BMI', 204),\n",
       " ('糖筛孕周', 205),\n",
       " ('舒张压', 246),\n",
       " ('收缩压', 247),\n",
       " ('AST', 254),\n",
       " ('DM家族史', 300),\n",
       " ('SNP54', 517),\n",
       " ('SNP55', 517),\n",
       " ('ACEID', 517),\n",
       " ('SNP23', 538),\n",
       " ('SNP21', 539),\n",
       " ('SNP22', 540),\n",
       " ('分娩时', 815),\n",
       " ('RBP4', 911)]"
      ]
     },
     "execution_count": 63,
     "metadata": {},
     "output_type": "execute_result"
    }
   ],
   "source": [
    "X_null_d = dict(X_train_df.isnull().sum())\n",
    "Y_null_d = dict(Y_train_df.isnull().sum())\n",
    "\n",
    "X_null_d = sorted(X_null_d.items(), key=lambda d:d[1]) \n",
    "\n",
    "X_null_d"
   ]
  },
  {
   "cell_type": "code",
   "execution_count": 44,
   "metadata": {},
   "outputs": [],
   "source": [
    "# list(X_null_d.keys())"
   ]
  },
  {
   "cell_type": "code",
   "execution_count": 47,
   "metadata": {},
   "outputs": [
    {
     "ename": "SyntaxError",
     "evalue": "invalid syntax (<ipython-input-47-9eb835e39b3d>, line 1)",
     "output_type": "error",
     "traceback": [
      "\u001b[0;36m  File \u001b[0;32m\"<ipython-input-47-9eb835e39b3d>\"\u001b[0;36m, line \u001b[0;32m1\u001b[0m\n\u001b[0;31m    X_null_rate_d = {k for k in X_null_d.keys():v for v in Y_null_d.keys()}\u001b[0m\n\u001b[0m                                               ^\u001b[0m\n\u001b[0;31mSyntaxError\u001b[0m\u001b[0;31m:\u001b[0m invalid syntax\n"
     ]
    }
   ],
   "source": [
    "X_null_rate_d = {k for k in X_null_d.keys():v for v in Y_null_d.keys()}\n",
    "# Y_null_rate_d = \n",
    "\n",
    "X_null_rate_d"
   ]
  },
  {
   "cell_type": "code",
   "execution_count": 34,
   "metadata": {},
   "outputs": [
    {
     "data": {
      "text/html": [
       "<div>\n",
       "<style scoped>\n",
       "    .dataframe tbody tr th:only-of-type {\n",
       "        vertical-align: middle;\n",
       "    }\n",
       "\n",
       "    .dataframe tbody tr th {\n",
       "        vertical-align: top;\n",
       "    }\n",
       "\n",
       "    .dataframe thead th {\n",
       "        text-align: right;\n",
       "    }\n",
       "</style>\n",
       "<table border=\"1\" class=\"dataframe\">\n",
       "  <thead>\n",
       "    <tr style=\"text-align: right;\">\n",
       "      <th></th>\n",
       "      <th>SNP1</th>\n",
       "      <th>SNP2</th>\n",
       "      <th>SNP3</th>\n",
       "      <th>SNP4</th>\n",
       "      <th>SNP5</th>\n",
       "      <th>SNP6</th>\n",
       "      <th>SNP7</th>\n",
       "      <th>SNP8</th>\n",
       "      <th>SNP9</th>\n",
       "      <th>SNP10</th>\n",
       "      <th>...</th>\n",
       "      <th>SNP47</th>\n",
       "      <th>SNP48</th>\n",
       "      <th>SNP49</th>\n",
       "      <th>SNP50</th>\n",
       "      <th>SNP51</th>\n",
       "      <th>SNP52</th>\n",
       "      <th>SNP53</th>\n",
       "      <th>SNP54</th>\n",
       "      <th>SNP55</th>\n",
       "      <th>ACEID</th>\n",
       "    </tr>\n",
       "  </thead>\n",
       "  <tbody>\n",
       "    <tr>\n",
       "      <th>0</th>\n",
       "      <td>0</td>\n",
       "      <td>0</td>\n",
       "      <td>52</td>\n",
       "      <td>11</td>\n",
       "      <td>65</td>\n",
       "      <td>13</td>\n",
       "      <td>3</td>\n",
       "      <td>5</td>\n",
       "      <td>5</td>\n",
       "      <td>5</td>\n",
       "      <td>...</td>\n",
       "      <td>47</td>\n",
       "      <td>22</td>\n",
       "      <td>17</td>\n",
       "      <td>19</td>\n",
       "      <td>19</td>\n",
       "      <td>13</td>\n",
       "      <td>44</td>\n",
       "      <td>5</td>\n",
       "      <td>5</td>\n",
       "      <td>5</td>\n",
       "    </tr>\n",
       "  </tbody>\n",
       "</table>\n",
       "<p>1 rows × 83 columns</p>\n",
       "</div>"
      ],
      "text/plain": [
       "   SNP1  SNP2  SNP3  SNP4  SNP5  SNP6  SNP7  SNP8  SNP9  SNP10  ...    SNP47  \\\n",
       "0     0     0    52    11    65    13     3     5     5      5  ...       47   \n",
       "\n",
       "   SNP48  SNP49  SNP50  SNP51  SNP52  SNP53  SNP54  SNP55  ACEID  \n",
       "0     22     17     19     19     13     44      5      5      5  \n",
       "\n",
       "[1 rows x 83 columns]"
      ]
     },
     "execution_count": 34,
     "metadata": {},
     "output_type": "execute_result"
    }
   ],
   "source": [
    "pd.DataFrame(X_null_d, dtype=np.int8,index=[0])"
   ]
  },
  {
   "cell_type": "code",
   "execution_count": null,
   "metadata": {},
   "outputs": [],
   "source": []
  }
 ],
 "metadata": {
  "kernelspec": {
   "display_name": "Python 3",
   "language": "python",
   "name": "python3"
  },
  "language_info": {
   "codemirror_mode": {
    "name": "ipython",
    "version": 3
   },
   "file_extension": ".py",
   "mimetype": "text/x-python",
   "name": "python",
   "nbconvert_exporter": "python",
   "pygments_lexer": "ipython3",
   "version": "3.6.6"
  },
  "toc": {
   "base_numbering": 1,
   "nav_menu": {},
   "number_sections": true,
   "sideBar": true,
   "skip_h1_title": false,
   "title_cell": "Table of Contents",
   "title_sidebar": "Contents",
   "toc_cell": false,
   "toc_position": {},
   "toc_section_display": true,
   "toc_window_display": true
  }
 },
 "nbformat": 4,
 "nbformat_minor": 2
}
