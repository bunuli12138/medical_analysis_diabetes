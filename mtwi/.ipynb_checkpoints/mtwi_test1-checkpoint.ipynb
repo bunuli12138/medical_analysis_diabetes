{
 "cells": [
  {
   "cell_type": "markdown",
   "metadata": {},
   "source": [
    "## 简介\n",
    "- 供20000张图像，train_set: 0.5\n",
    "    <img src = \"./Img/sample.png\" height=50>\n",
    "- 文本文件$(X_i,Y_i)是文本外接四边形的顶点$，文本指文本内容\n",
    "\n",
    "|X1|Y1|X2|Y2|X3|Y3|X4|Y4|文本|     \n",
    "|---|---|---|---|---|---|---|---|---|     \n",
    "\n",
    "\n",
    " <img src = \"./Img/sample_txt.png\" height=50>"
   ]
  },
  {
   "cell_type": "markdown",
   "metadata": {},
   "source": [
    "- 输出：选手将识别出的内容输出到一个.txt的文件中，字符需以UTF-8编码，第一列为图片文件的名字，第二列为图片中识别出来的文字，样式如下：         \n",
    "```         \n",
    "sample_result.txt            \n",
    "line_1.jpg 多种型号         \n",
    "line_2.jpg 品质         \n",
    "```\n",
    "- 提交：将最终生成的 .txt文件放到一个zip压缩包中，然后提交。"
   ]
  },
  {
   "cell_type": "code",
   "execution_count": null,
   "metadata": {},
   "outputs": [],
   "source": []
  }
 ],
 "metadata": {
  "kernelspec": {
   "display_name": "Python 3",
   "language": "python",
   "name": "python3"
  },
  "language_info": {
   "codemirror_mode": {
    "name": "ipython",
    "version": 3
   },
   "file_extension": ".py",
   "mimetype": "text/x-python",
   "name": "python",
   "nbconvert_exporter": "python",
   "pygments_lexer": "ipython3",
   "version": "3.6.6"
  },
  "toc": {
   "base_numbering": 1,
   "nav_menu": {},
   "number_sections": true,
   "sideBar": true,
   "skip_h1_title": false,
   "title_cell": "Table of Contents",
   "title_sidebar": "Contents",
   "toc_cell": false,
   "toc_position": {},
   "toc_section_display": true,
   "toc_window_display": true
  }
 },
 "nbformat": 4,
 "nbformat_minor": 2
}
