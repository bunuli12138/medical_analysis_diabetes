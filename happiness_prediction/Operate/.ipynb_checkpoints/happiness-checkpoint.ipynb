{
 "cells": [
  {
   "cell_type": "markdown",
   "metadata": {},
   "source": [
    "## 简介\n",
    "对于天池“挖掘幸福度”比赛的操作仓库  \n",
    "\n",
    "## 目录\n",
    "[Data](Data)： 数据集  \n",
    "[Operate](Operate)： 操作文件  \n",
    "[Result](Result)： 结果文件夹（可提交）  \n",
    "\n",
    "## 数据集\n",
    "\n",
    "| 表格 | 描述 |  \n",
    "| --- | --- |  \n",
    "| index | 每个变量对应的问卷题目，以及变量取值的含义 |  \n",
    "| survey | 数据源的原版问卷 |   \n",
    "| *_complete | 变量完整版数据 |   \n",
    "| *_abbr | 变量精简版数据 |  \n",
    "\n",
    "提交格式：   \n",
    "\n",
    "| id | happiness |  \n",
    "| --- | --- | \n",
    "\n",
    "分数公式： $score = \\frac{1}{n}\\sum_1^n(y_i-y^*)^2$   \n",
    "\n",
    "\n",
    "## 命名规则  \n",
    "X/Y/train/test_Class_Description 或 Class_Description   \n",
    "含义：     \n",
    "- X：特征数据集，Y：标签，train：训练集，test：测试集  \n",
    "- Class： 变量名称， Description：变量作用或来源简介  \n",
    "- 逐步改变的变量，则后加 _Feature， 表示当前改变的来源特征  \n",
    "- 以 _ 开头的变量表示不可变     \n",
    "- 方法内的变量描述为简写首字母   \n"
   ]
  },
  {
   "cell_type": "code",
   "execution_count": null,
   "metadata": {},
   "outputs": [],
   "source": []
  }
 ],
 "metadata": {
  "kernelspec": {
   "display_name": "Python 3",
   "language": "python",
   "name": "python3"
  },
  "language_info": {
   "codemirror_mode": {
    "name": "ipython",
    "version": 3
   },
   "file_extension": ".py",
   "mimetype": "text/x-python",
   "name": "python",
   "nbconvert_exporter": "python",
   "pygments_lexer": "ipython3",
   "version": "3.7.1"
  },
  "toc": {
   "base_numbering": 1,
   "nav_menu": {},
   "number_sections": true,
   "sideBar": true,
   "skip_h1_title": false,
   "title_cell": "Table of Contents",
   "title_sidebar": "Contents",
   "toc_cell": false,
   "toc_position": {},
   "toc_section_display": true,
   "toc_window_display": false
  }
 },
 "nbformat": 4,
 "nbformat_minor": 2
}
